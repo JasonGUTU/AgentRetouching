{
 "cells": [
  {
   "cell_type": "code",
   "execution_count": 1,
   "id": "17f151bb-e485-4e97-9a25-9c7c9fc2578d",
   "metadata": {},
   "outputs": [],
   "source": [
    "import os\n",
    "import json\n",
    "from dotenv import load_dotenv\n",
    "from swarm import Swarm, Agent\n",
    "import openai\n",
    "from prompts import *\n",
    "\n",
    "from Chat import AgentClient\n",
    "from Toolbox import ImageProcessingToolBoxes\n",
    "\n",
    "# Set the environment variable for the OpenAI API key\n",
    "load_dotenv()\n",
    "api_key = os.getenv(\"OPENAI_API_KEY\")\n",
    "openai.api_key = api_key"
   ]
  },
  {
   "cell_type": "code",
   "execution_count": 2,
   "id": "71e5c29e-f81f-4f12-b7ef-1342f54b68a0",
   "metadata": {},
   "outputs": [],
   "source": [
    "image_process = ImageProcessingToolBoxes(image_path='./atest.png', output_dir_name='test', debug=True)\n",
    "chat_client = AgentClient(api_key=api_key, toolbox_instance=image_process, debug=False)"
   ]
  },
  {
   "cell_type": "code",
   "execution_count": 3,
   "id": "4b28bf8c-e2a0-4b7a-8b4a-cb6aa772b704",
   "metadata": {
    "scrolled": true
   },
   "outputs": [
    {
     "name": "stdout",
     "output_type": "stream",
     "text": [
      "\n",
      "\n",
      "`func_to_return_responses`, response: \n",
      "\n",
      "### Analysis of Main Content\n",
      "This image shows a dog sitting in the front seat of a car. The dog is visible through the window, seemingly gazing outside. It appears to be a brown dog, and the car's interior—slightly dark and cramped—frames the scene. The window is rolled down enough to allow for a clear view of the dog.\n",
      "\n",
      "### Evaluation of Photographic Value\n",
      "The image captures a candid and intimate moment, focusing on the dog as the main subject. The lighting is low, which adds a mysterious or contemplative mood to the photograph. The image appears to be shot from a slightly lower angle, as if the photographer is crouching outside the car. This angle emphasizes the dog's presence. The shadowy elements further amplify the emotional depth and focus.\n",
      "\n",
      "### Speculation on Emotions and Artistic Values\n",
      "The presence of the dog inside a car might evoke feelings of companionship, loyalty, and patience, possibly indicating a waiting scenario. Artistically, the image captures a simple yet poignant moment, highlighting the bond between humans and animals. It suggests themes of travel, anticipation, or solitude, depending on the viewer's perspective. The soft lighting and framing create an intimate atmosphere, inviting emotional engagement.\n",
      "\n",
      "\n",
      "`func_to_return_responses`, response: \n",
      "\n",
      "### Color Adjustment Strategy\n",
      "\n",
      "1. **Adjust Brightness**:\n",
      "   - **Increase:** The image is quite dark, so gently increasing the brightness will help reveal more of the dog’s details and make the subject stand out. This adjustment will also enhance the focus on the dog’s expression, inviting more engagement.\n",
      "\n",
      "2. **Adjust Contrast**:\n",
      "   - **Increase:** Enhancing contrast will make the image more striking, emphasizing the differences between the interior's darkness and the dog's features. This will add depth and dynamic tension to the photograph.\n",
      "\n",
      "3. **Adjust Shadows**:\n",
      "   - **Lift Shadows:** Lightening the shadows slightly will help reveal the car's interior and the dog’s features without losing the moody atmosphere. This adjustment will create a softer, more inviting look.\n",
      "\n",
      "4. **Adjust Highlights**:\n",
      "   - **Slight Decrease:** To prevent any potential overexposure from the window reflection and maintain a balance across the photo, slightly tone down the highlights.\n",
      "\n",
      "5. **Adjust Saturation**:\n",
      "   - **Moderate Increase:** Boosting saturation a bit can give the dog's coat a richer appearance, adding warmth and liveliness to the image. This will subtly enhance emotional impact without overpowering the soft lighting.\n",
      "\n",
      "This approach will ensure the image maintains its introspective and emotional feel while making the subject clearer and adding visual appeal.\n",
      "\n",
      "\n",
      "`func_to_get_plan`, response: \n",
      "\n",
      "['adjust_brightness', 'adjust_shadows', 'adjust_contrast', 'adjust_highlights', 'adjust_saturation']\n",
      "解析后的计划: ['adjust_brightness', 'adjust_shadows', 'adjust_contrast', 'adjust_highlights', 'adjust_saturation']\n"
     ]
    }
   ],
   "source": [
    "chat_client.agent_interaction(system_prompt=image_content_analyzer_prompt())\n",
    "chat_client.agent_interaction(system_prompt=global_retouching_concept_prompt())\n",
    "chat_client.agent_get_plan(system_prompt=retouching_planing_system_prompt(), user_prompt=retouching_planing_user_prompt(image_process.get_function_names()))\n",
    "\n",
    "while image_process.processing_plan:\n",
    "    current_function = image_process.processing_plan[0]\n",
    "\n",
    "    chat_client.agent_execute_plan(\n",
    "        system_prompt=retouching_execute_system_prompt(),\n",
    "        user_prompt=retouching_execute_user_prompt(current_function),\n",
    "        current_function_name=current_function)\n",
    "    \n",
    "    image_process.finish_current_plan()"
   ]
  },
  {
   "cell_type": "code",
   "execution_count": 10,
   "id": "7cb23dab-9386-4b97-a89e-d163d8f8fb80",
   "metadata": {},
   "outputs": [],
   "source": [
    "current_function = image_process.processing_plan[0]"
   ]
  },
  {
   "cell_type": "code",
   "execution_count": null,
   "id": "89ce4143-f267-4e68-987f-1369c67122c6",
   "metadata": {},
   "outputs": [],
   "source": []
  },
  {
   "cell_type": "code",
   "execution_count": null,
   "id": "0169ef6e-db01-4fcf-a033-6d4ef5521d37",
   "metadata": {},
   "outputs": [],
   "source": []
  },
  {
   "cell_type": "code",
   "execution_count": null,
   "id": "f5fb83c4-6bcd-4114-848b-7cceb321827b",
   "metadata": {},
   "outputs": [],
   "source": []
  },
  {
   "cell_type": "code",
   "execution_count": null,
   "id": "74240c20-70d6-4f27-a6de-7cc5ac481db0",
   "metadata": {},
   "outputs": [],
   "source": []
  },
  {
   "cell_type": "code",
   "execution_count": null,
   "id": "813bdf87-c924-40ca-b7b4-c3a60bdea5ca",
   "metadata": {},
   "outputs": [],
   "source": []
  },
  {
   "cell_type": "code",
   "execution_count": null,
   "id": "e387adfa-77cf-4bc6-a569-cee77ff502d4",
   "metadata": {},
   "outputs": [],
   "source": []
  },
  {
   "cell_type": "code",
   "execution_count": null,
   "id": "e20791c1-52eb-4533-8158-60ba1c609047",
   "metadata": {},
   "outputs": [],
   "source": []
  },
  {
   "cell_type": "code",
   "execution_count": null,
   "id": "ba5b1b83-5972-44ec-a463-eb534473cd7e",
   "metadata": {},
   "outputs": [],
   "source": []
  },
  {
   "cell_type": "code",
   "execution_count": null,
   "id": "aa7528a3-8008-4a73-80c2-009827bc1c97",
   "metadata": {},
   "outputs": [],
   "source": []
  },
  {
   "cell_type": "code",
   "execution_count": null,
   "id": "4771ed52-fee0-479b-9f68-a83fcc024fa4",
   "metadata": {},
   "outputs": [],
   "source": []
  },
  {
   "cell_type": "code",
   "execution_count": null,
   "id": "d56da6c1-bcc2-481e-85e5-5a3863fb7b88",
   "metadata": {},
   "outputs": [],
   "source": []
  },
  {
   "cell_type": "code",
   "execution_count": null,
   "id": "093ef308-7465-4c86-9f40-cff8f8b2238a",
   "metadata": {},
   "outputs": [],
   "source": []
  },
  {
   "cell_type": "code",
   "execution_count": null,
   "id": "b1ed2000-20e1-4773-bb90-0a1af22f4a6c",
   "metadata": {},
   "outputs": [],
   "source": []
  },
  {
   "cell_type": "code",
   "execution_count": null,
   "id": "5758dc70-8c19-4239-be0c-0bd9faa953fa",
   "metadata": {},
   "outputs": [],
   "source": []
  },
  {
   "cell_type": "code",
   "execution_count": null,
   "id": "d97db49f-3824-4159-a461-40a4be4d01db",
   "metadata": {},
   "outputs": [],
   "source": []
  },
  {
   "cell_type": "code",
   "execution_count": null,
   "id": "eb1ddd70-4b83-4762-b55b-68965331a3a2",
   "metadata": {},
   "outputs": [],
   "source": []
  },
  {
   "cell_type": "code",
   "execution_count": null,
   "id": "5c2b0a9d-5bc7-4cde-94c1-72386d4ccd01",
   "metadata": {},
   "outputs": [],
   "source": []
  },
  {
   "cell_type": "code",
   "execution_count": null,
   "id": "c1319e18-7342-445e-8f20-eadf011be4c2",
   "metadata": {},
   "outputs": [],
   "source": []
  },
  {
   "cell_type": "code",
   "execution_count": null,
   "id": "013449c8-732c-4c8d-bc32-afc219b9520e",
   "metadata": {},
   "outputs": [],
   "source": []
  }
 ],
 "metadata": {
  "kernelspec": {
   "display_name": "Python 3 (ipykernel)",
   "language": "python",
   "name": "python3"
  },
  "language_info": {
   "codemirror_mode": {
    "name": "ipython",
    "version": 3
   },
   "file_extension": ".py",
   "mimetype": "text/x-python",
   "name": "python",
   "nbconvert_exporter": "python",
   "pygments_lexer": "ipython3",
   "version": "3.10.15"
  }
 },
 "nbformat": 4,
 "nbformat_minor": 5
}
