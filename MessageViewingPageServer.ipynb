{
 "cells": [
  {
   "cell_type": "code",
   "execution_count": 1,
   "id": "077ae1d7-18df-46a5-9276-929a8b0d4dd2",
   "metadata": {},
   "outputs": [],
   "source": [
    "from http.server import HTTPServer, SimpleHTTPRequestHandler\n",
    "import json\n",
    "import os\n",
    "import argparse\n",
    "\n",
    "class CORSRequestHandler(SimpleHTTPRequestHandler):\n",
    "    def end_headers(self):\n",
    "        self.send_header('Access-Control-Allow-Origin', '*')\n",
    "        self.send_header('Access-Control-Allow-Methods', 'GET')\n",
    "        self.send_header('Cache-Control', 'no-store, no-cache, must-revalidate')\n",
    "        super().end_headers()\n",
    "\n",
    "    def do_GET(self):\n",
    "        if self.path == '/data':\n",
    "            try:\n",
    "                # 使用服务器实例中存储的文件路径\n",
    "                json_file = self.server.json_file\n",
    "                if not os.path.exists(json_file):\n",
    "                    self.send_error(404, f\"File not found: {json_file}\")\n",
    "                    return\n",
    "\n",
    "                with open(json_file, 'r', encoding='utf-8') as f:\n",
    "                    content = f.read()\n",
    "                \n",
    "                self.send_response(200)\n",
    "                self.send_header('Content-Type', 'application/json')\n",
    "                self.end_headers()\n",
    "                self.wfile.write(content.encode())\n",
    "                return\n",
    "            except Exception as e:\n",
    "                self.send_error(500, f\"Error reading file: {str(e)}\")\n",
    "                return\n",
    "        \n",
    "        super().do_GET()\n",
    "\n",
    "class CustomHTTPServer(HTTPServer):\n",
    "    def __init__(self, server_address, RequestHandlerClass, json_file):\n",
    "        super().__init__(server_address, RequestHandlerClass)\n",
    "        self.json_file = json_file"
   ]
  },
  {
   "cell_type": "code",
   "execution_count": null,
   "id": "1f9d0c3f-74ee-482f-9d52-aa521ffce566",
   "metadata": {},
   "outputs": [
    {
     "name": "stdout",
     "output_type": "stream",
     "text": [
      "Starting server on port 8000...\n",
      "Monitoring file: /Users/jinjingu/Documents/Projects/AgentRetouching/test-output/PhotoArtAgent_V.Jan5_woKI_artistic_emphasis/test_image_withcolor_64/user_messages.json\n",
      "Please open http://localhost:8000/viewer.html in your browser\n"
     ]
    },
    {
     "name": "stderr",
     "output_type": "stream",
     "text": [
      "127.0.0.1 - - [06/Jan/2025 22:51:56] \"GET /data HTTP/1.1\" 200 -\n"
     ]
    }
   ],
   "source": [
    "json_file = os.path.abspath('/Users/jinjingu/Documents/Projects/AgentRetouching/test-output/PhotoArtAgent_V.Jan5_woKI_artistic_emphasis/test_image_withcolor_64/user_messages.json')\n",
    "\n",
    "PORT = 8000\n",
    "print(f\"Starting server on port {PORT}...\")\n",
    "print(f\"Monitoring file: {json_file}\")\n",
    "print(f\"Please open http://localhost:{PORT}/viewer.html in your browser\")\n",
    "\n",
    "server = CustomHTTPServer(('', PORT), CORSRequestHandler, json_file)\n",
    "server.serve_forever()"
   ]
  },
  {
   "cell_type": "code",
   "execution_count": null,
   "id": "e7c9350c-7043-4450-ae7f-4b989845a7e0",
   "metadata": {},
   "outputs": [],
   "source": []
  }
 ],
 "metadata": {
  "kernelspec": {
   "display_name": "Python 3 (ipykernel)",
   "language": "python",
   "name": "python3"
  },
  "language_info": {
   "codemirror_mode": {
    "name": "ipython",
    "version": 3
   },
   "file_extension": ".py",
   "mimetype": "text/x-python",
   "name": "python",
   "nbconvert_exporter": "python",
   "pygments_lexer": "ipython3",
   "version": "3.10.16"
  }
 },
 "nbformat": 4,
 "nbformat_minor": 5
}
