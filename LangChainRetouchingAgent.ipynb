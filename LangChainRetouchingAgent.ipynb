{
 "cells": [
  {
   "cell_type": "code",
   "execution_count": 1,
   "id": "dd16e85a-b171-4fee-81c8-478db5c9f716",
   "metadata": {},
   "outputs": [],
   "source": [
    "import getpass\n",
    "import os\n",
    "from dotenv import load_dotenv\n",
    "load_dotenv()\n",
    "\n",
    "from langchain_openai import ChatOpenAI\n",
    "\n",
    "from Toolbox import ImageProcessingToolBoxes\n",
    "\n",
    "model = ChatOpenAI(model=\"gpt-4o-2024-08-06\")"
   ]
  },
  {
   "cell_type": "code",
   "execution_count": null,
   "id": "a194c877-8f44-4bd2-b187-731793a2b8ce",
   "metadata": {},
   "outputs": [],
   "source": []
  },
  {
   "cell_type": "code",
   "execution_count": null,
   "id": "e1a02046-0fcf-4890-81f1-ceeb8dee6e54",
   "metadata": {},
   "outputs": [],
   "source": [
    "import tifffile\n",
    "\n",
    "# 使用 tifffile 检查 TIFF 文件\n",
    "with tifffile.TiffFile(\"./test-images/a0085-kme_215.tif\") as tiff:\n",
    "    for page in tiff.pages:\n",
    "        print(\"Bits per sample:\", page.bitspersample)  # 位深度"
   ]
  },
  {
   "cell_type": "code",
   "execution_count": null,
   "id": "ad0d6948-0ccc-485b-ba71-f07f1e0bd0a9",
   "metadata": {},
   "outputs": [],
   "source": []
  },
  {
   "cell_type": "code",
   "execution_count": null,
   "id": "b4027766-8384-49b8-a627-086a35f05d16",
   "metadata": {},
   "outputs": [],
   "source": []
  },
  {
   "cell_type": "code",
   "execution_count": 2,
   "id": "44317611-170a-4b19-9ed7-c40e93a18854",
   "metadata": {},
   "outputs": [],
   "source": [
    "test_image_path = './test-images/a0027-IMG_3964.jpg'\n",
    "output_dir_path = f'./test-output/{os.path.splitext(os.path.basename(test_image_path))[0]}'\n",
    "image_process = ImageProcessingToolBoxes(image_path=test_image_path, output_dir_name=output_dir_path, debug=True, save_high_resolution=False)\n",
    "global_style = None"
   ]
  },
  {
   "cell_type": "code",
   "execution_count": null,
   "id": "688d02cf-8d46-4d03-ac2e-59b865d04e1d",
   "metadata": {},
   "outputs": [],
   "source": [
    "image_process.get_tool_docs()"
   ]
  },
  {
   "cell_type": "code",
   "execution_count": 3,
   "id": "8aaf6cc3-7f56-49dd-9bf5-8752b93433a7",
   "metadata": {},
   "outputs": [],
   "source": [
    "response = model.invoke(\"what is the weather in SF\")"
   ]
  },
  {
   "cell_type": "code",
   "execution_count": null,
   "id": "65eb6a1a-075d-4f6d-8c5a-b78d6e343d48",
   "metadata": {},
   "outputs": [],
   "source": [
    "model_with_tool = model.bind_tools([])"
   ]
  },
  {
   "cell_type": "code",
   "execution_count": 4,
   "id": "0e21ac04-6c26-41dd-87e2-9003cb804a93",
   "metadata": {},
   "outputs": [
    {
     "data": {
      "text/plain": [
       "\"I'm unable to provide real-time data, including current weather conditions. To get the latest weather information for San Francisco, please check a reliable weather website or app such as the Weather Channel, AccuWeather, or a local news station's website.\""
      ]
     },
     "execution_count": 4,
     "metadata": {},
     "output_type": "execute_result"
    }
   ],
   "source": [
    "response.content"
   ]
  },
  {
   "cell_type": "code",
   "execution_count": null,
   "id": "34297140-05a8-42a4-999c-2ca76d103a55",
   "metadata": {},
   "outputs": [],
   "source": []
  },
  {
   "cell_type": "code",
   "execution_count": null,
   "id": "560ad943-0427-4bcc-9d50-2ac678b0c407",
   "metadata": {},
   "outputs": [],
   "source": []
  },
  {
   "cell_type": "code",
   "execution_count": null,
   "id": "7f7d3339-4383-4964-91f8-ce3650071198",
   "metadata": {},
   "outputs": [],
   "source": []
  },
  {
   "cell_type": "code",
   "execution_count": 2,
   "id": "29fdc358-1cf8-4e58-9bde-0d31a11e0606",
   "metadata": {},
   "outputs": [],
   "source": [
    "import cv2\n",
    "import numpy as np\n",
    "import matplotlib.pyplot as plt\n",
    "from PIL import Image\n",
    "from io import BytesIO\n",
    "\n",
    "def plot_histogram(\n",
    "    img_path, \n",
    "    bins=256, \n",
    "    auxiliary_lines=True,\n",
    "    line_positions=None\n",
    "):\n",
    "    \"\"\"\n",
    "    读取图像(可能是8位或16位灰度图)，并绘制类似 Photoshop 风格的直方图。\n",
    "    - bins: 分桶数，默认256（适用于8位或16位分桶后显示）。\n",
    "    - auxiliary_lines: 是否添加辅助线（默认 True）\n",
    "    - line_positions: 辅助线的位置(以 bin 为单位)。如果传入None，则默认在 1/4、1/2、3/4 处。\n",
    "    返回一个 PIL.Image 对象。\n",
    "    \n",
    "    核心逻辑:\n",
    "      1. 读取图像 (cv2.IMREAD_UNCHANGED) 保留原始深度\n",
    "      2. 判断 dtype: 8 位 -> [0,256], 16 位 -> [0,65536]\n",
    "      3. 用 cv2.calcHist 做直方图统计(分桶数=bins)\n",
    "      4. 用柱状图 bar() 绘制，无坐标刻度，保留外框\n",
    "      5. 根据需要添加辅助线(axvline)，可自行设置线宽、颜色等\n",
    "    \"\"\"\n",
    "    # 1. 用 UNCHANGED 方式读入，保留原图深度\n",
    "    image = cv2.imread(img_path, cv2.IMREAD_UNCHANGED)\n",
    "    if image is None:\n",
    "        raise ValueError(f\"无法读取图像: {img_path}\")\n",
    "    \n",
    "    # 如果图像是彩色，则转灰度\n",
    "    if len(image.shape) == 3:\n",
    "        image = cv2.cvtColor(image, cv2.COLOR_BGR2GRAY)\n",
    "    \n",
    "    # 2. 根据图像 dtype 判断是 8 位还是 16 位\n",
    "    if image.dtype == np.uint8:\n",
    "        hist_range = [0, 256]      # 8位范围\n",
    "        hist_bins = bins\n",
    "    elif image.dtype == np.uint16:\n",
    "        hist_range = [0, 65536]    # 16位范围\n",
    "        hist_bins = bins\n",
    "    else:\n",
    "        raise ValueError(f\"图像不是 8 位或 16 位灰度图，dtype={image.dtype}\")\n",
    "    \n",
    "    # 3. 计算直方图\n",
    "    hist = cv2.calcHist([image], [0], None, [hist_bins], hist_range)\n",
    "\n",
    "    # 4. 创建方形绘图(这里设成 6x6，可根据需要自行修改)\n",
    "    fig = plt.figure(figsize=(6, 6), facecolor='white')\n",
    "    ax = fig.add_subplot(111)\n",
    "\n",
    "    # 5. 使用柱状图\n",
    "    ax.bar(\n",
    "        x=range(hist_bins),\n",
    "        height=hist[:, 0],\n",
    "        color='black',\n",
    "        width=1\n",
    "    )\n",
    "\n",
    "    # 设置 xlim, ylim\n",
    "    ax.set_xlim([0, hist_bins])\n",
    "    ax.set_ylim([0, hist.max() * 1.05])\n",
    "\n",
    "    # 6. 保留外框，但去掉刻度\n",
    "    #    可以让外框线更粗一点，以增强对比\n",
    "    ax.spines['top'].set_visible(True)\n",
    "    ax.spines['right'].set_visible(True)\n",
    "    ax.spines['bottom'].set_visible(True)\n",
    "    ax.spines['left'].set_visible(True)\n",
    "\n",
    "    # 设置外框颜色和线宽\n",
    "    for spine in ax.spines.values():\n",
    "        spine.set_color('black')\n",
    "        spine.set_linewidth(2)  # 让外框线更粗\n",
    "\n",
    "    ax.set_xticks([])\n",
    "    ax.set_yticks([])\n",
    "\n",
    "    # 7. 如果需要辅助线，就添加\n",
    "    if auxiliary_lines:\n",
    "        # 如果用户没指定 line_positions，就默认在 1/4、1/2、3/4 处\n",
    "        if not line_positions:\n",
    "            line_positions = [\n",
    "                hist_bins // 4, \n",
    "                hist_bins // 2, \n",
    "                hist_bins * 3 // 4\n",
    "            ]\n",
    "        for x_val in line_positions:\n",
    "            ax.axvline(\n",
    "                x=x_val, \n",
    "                color='gray', \n",
    "                linestyle='--', \n",
    "                linewidth=2  # 线条也加粗\n",
    "            )\n",
    "\n",
    "    # 8. 转换为 PIL.Image 并返回\n",
    "    buf = BytesIO()\n",
    "    plt.savefig(buf, format='png', bbox_inches='tight')\n",
    "    buf.seek(0)\n",
    "    pil_image = Image.open(buf).copy()\n",
    "\n",
    "    plt.close(fig)\n",
    "    buf.close()\n",
    "\n",
    "    return pil_image"
   ]
  },
  {
   "cell_type": "code",
   "execution_count": 5,
   "id": "92f4d4de-d913-4ca6-a6fa-e2add825de15",
   "metadata": {},
   "outputs": [
    {
     "data": {
      "image/png": "[encoded data removed]",
      "text/plain": [
       "<PIL.Image.Image image mode=RGBA size=484x482>"
      ]
     },
     "metadata": {},
     "output_type": "display_data"
    }
   ],
   "source": [
    "# ------------------------ 使用示例 ------------------------\n",
    "if __name__ == \"__main__\":\n",
    "    # 假设可能是8位jpg，也可能是16位tif\n",
    "    # 你只需传入路径即可\n",
    "    hist_pil_8bit = plot_histogram('./test-images/a0105-kme_439.dng')\n",
    "    display(hist_pil_8bit)\n",
    "\n",
    "    # hist_pil_16bit = plot_histogram_8bit_or_16bit(\"test_16bit.tif\", bins=256)\n",
    "    # hist_pil_16bit.show()\n",
    "\n",
    "    # 若想保存，可自行:\n",
    "    # hist_pil_8bit.save(\"output_8bit_hist.png\")\n",
    "    # hist_pil_16bit.save(\"output_16bit_hist.png\")\n"
   ]
  },
  {
   "cell_type": "code",
   "execution_count": null,
   "id": "586bba18-4e7d-44ff-8be1-8735e03e37f5",
   "metadata": {},
   "outputs": [],
   "source": []
  }
 ],
 "metadata": {
  "kernelspec": {
   "display_name": "Python 3 (ipykernel)",
   "language": "python",
   "name": "python3"
  },
  "language_info": {
   "codemirror_mode": {
    "name": "ipython",
    "version": 3
   },
   "file_extension": ".py",
   "mimetype": "text/x-python",
   "name": "python",
   "nbconvert_exporter": "python",
   "pygments_lexer": "ipython3",
   "version": "3.8.20"
  }
 },
 "nbformat": 4,
 "nbformat_minor": 5
}
