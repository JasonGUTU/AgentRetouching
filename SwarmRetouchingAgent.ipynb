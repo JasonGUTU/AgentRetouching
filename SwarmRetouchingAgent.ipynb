{
 "cells": [
  {
   "cell_type": "code",
   "execution_count": 1,
   "id": "17f151bb-e485-4e97-9a25-9c7c9fc2578d",
   "metadata": {},
   "outputs": [],
   "source": [
    "import os\n",
    "import json\n",
    "from dotenv import load_dotenv\n",
    "from swarm import Swarm, Agent\n",
    "import openai\n",
    "from prompts import *\n",
    "\n",
    "from Chat import AgentClient\n",
    "from Toolbox import ImageProcessingToolBoxes\n",
    "\n",
    "# Set the environment variable for the OpenAI API key\n",
    "load_dotenv()\n",
    "api_key = os.getenv(\"OPENAI_API_KEY\")\n",
    "openai.api_key = api_key"
   ]
  },
  {
   "cell_type": "code",
   "execution_count": 6,
   "id": "71e5c29e-f81f-4f12-b7ef-1342f54b68a0",
   "metadata": {},
   "outputs": [],
   "source": [
    "image_process = ImageProcessingToolBoxes(image_path='./atest.png', output_dir_name='test', debug=True)\n",
    "chat_client = AgentClient(api_key=api_key, toolbox_instance=image_process, debug=False)"
   ]
  },
  {
   "cell_type": "code",
   "execution_count": 3,
   "id": "4b28bf8c-e2a0-4b7a-8b4a-cb6aa772b704",
   "metadata": {},
   "outputs": [
    {
     "name": "stdout",
     "output_type": "stream",
     "text": [
      "\n",
      "\n",
      "`func_to_return_responses`, response: \n",
      "\n",
      "**Main Content Analysis:**\n",
      "\n",
      "The image depicts a dog sitting inside a car, visible through the passenger window. The animal appears calm, looking directly at the viewer. The interior of the car and the surrounding elements, like the side mirror, are also visible.\n",
      "\n",
      "---\n",
      "\n",
      "**Photographic Value Evaluation:**\n",
      "\n",
      "The image uses a direct, slightly low angle, framing the dog prominently in the center of the window, creating a sense of focus. The lighting seems dim, with shadows engulfing parts of the car and dog, possibly indicating an overcast day or dusk. The window serves as a natural frame, directing attention to the subject. The dark, muted tones suggest a serene, contemplative mood.\n",
      "\n",
      "---\n",
      "\n",
      "**Emotions and Artistic Values:**\n",
      "\n",
      "The photograph evokes feelings of curiosity and empathy, showcasing the bond between humans and animals. The dog’s gaze creates a sense of connection with the viewer. The composition subtly conveys themes of companionship and quiet observation, highlighting the routine yet meaningful moments spent together.\n",
      "\n",
      "\n",
      "`func_to_return_responses`, response: \n",
      "\n",
      "### Color Adjustment Strategy\n",
      "\n",
      "Based on the analysis of the image, here's a tailored color adjustment strategy to enhance its visual and emotional impact:\n",
      "\n",
      "1. **Adjust Brightness:**\n",
      "   - **Increase:** Brightening the image will help reveal more details in the dog's face and the car interior. This will make the dog more visually prominent, enhancing engagement.\n",
      "\n",
      "2. **Adjust Shadows:**\n",
      "   - **Lift Shadows:** By lifting the shadows, more detail in the darker areas such as the car interior and the dog's features can be revealed, helping distinguish different elements.\n",
      "\n",
      "3. **Adjust Contrast:**\n",
      "   - **Increase:** Increasing contrast slightly will sharpen the differences between highlighted and shadowed areas. This will add a crispness to the dog's fur and the car's textures, bringing focus to the subject and key elements.\n",
      "\n",
      "4. **Adjust Highlights:**\n",
      "   - **Slight Increase:** Gently raising the highlights can help make any available catchlights in the dog's eyes more pronounced, enhancing emotional expression and drawing the viewer's eye.\n",
      "\n",
      "5. **Adjust Saturation:**\n",
      "   - **Slight Increase:** Enhancing saturation slightly can bring out more natural colors in the dog's fur and the car’s exterior. This would make the image warmer and more inviting.\n",
      "\n",
      "### Creative Intent\n",
      "\n",
      "The goal of these adjustments is to bring clarity and focus to the image, highlighting the dog's expression and the subtle intricacies of its setting. By adjusting brightness and contrast, the image will feel more vibrant and engaging, strengthening the emotional connection with the viewer. Lifting shadows and enhancing saturation will ensure the image retains a natural feel while emphasizing important details.\n",
      "\n",
      "\n",
      "`func_to_get_plan`, response: \n",
      "\n",
      "['adjust_brightness', 'adjust_shadows', 'adjust_contrast', 'adjust_highlights', 'adjust_saturation']\n",
      "Plan after parsing: ['adjust_brightness', 'adjust_shadows', 'adjust_contrast', 'adjust_highlights', 'adjust_saturation']\n",
      "Adjusting brightness of image-1 with factor 50, generate image-2, reason: Increasing the brightness will reveal more details in the dog's features and the car's interior, enhancing clarity and focus while bringing life to the subdued tones of the original image..\n"
     ]
    },
    {
     "ename": "ValueError",
     "evalue": "images do not match",
     "output_type": "error",
     "traceback": [
      "\u001b[0;31m---------------------------------------------------------------------------\u001b[0m",
      "\u001b[0;31mValueError\u001b[0m                                Traceback (most recent call last)",
      "Cell \u001b[0;32mIn[3], line 8\u001b[0m\n\u001b[1;32m      5\u001b[0m \u001b[38;5;28;01mwhile\u001b[39;00m image_process\u001b[38;5;241m.\u001b[39mprocessing_plan:\n\u001b[1;32m      6\u001b[0m     current_function \u001b[38;5;241m=\u001b[39m image_process\u001b[38;5;241m.\u001b[39mprocessing_plan[\u001b[38;5;241m0\u001b[39m]\n\u001b[0;32m----> 8\u001b[0m     \u001b[43mchat_client\u001b[49m\u001b[38;5;241;43m.\u001b[39;49m\u001b[43magent_execute_plan\u001b[49m\u001b[43m(\u001b[49m\n\u001b[1;32m      9\u001b[0m \u001b[43m        \u001b[49m\u001b[43msystem_prompt\u001b[49m\u001b[38;5;241;43m=\u001b[39;49m\u001b[43mretouching_execute_system_prompt\u001b[49m\u001b[43m(\u001b[49m\u001b[43m)\u001b[49m\u001b[43m,\u001b[49m\n\u001b[1;32m     10\u001b[0m \u001b[43m        \u001b[49m\u001b[43muser_prompt\u001b[49m\u001b[38;5;241;43m=\u001b[39;49m\u001b[43mretouching_execute_user_prompt\u001b[49m\u001b[43m(\u001b[49m\u001b[43mcurrent_function\u001b[49m\u001b[43m)\u001b[49m\u001b[43m,\u001b[49m\n\u001b[1;32m     11\u001b[0m \u001b[43m        \u001b[49m\u001b[43mcurrent_function_name\u001b[49m\u001b[38;5;241;43m=\u001b[39;49m\u001b[43mcurrent_function\u001b[49m\u001b[43m)\u001b[49m\n\u001b[1;32m     13\u001b[0m     image_process\u001b[38;5;241m.\u001b[39mfinish_current_plan()\n",
      "File \u001b[0;32m~/Documents/Projects/AgentRetouching/Chat.py:83\u001b[0m, in \u001b[0;36mAgentClient.agent_execute_plan\u001b[0;34m(self, system_prompt, user_prompt, current_function_name, provide_image, history_messages, run_tool)\u001b[0m\n\u001b[1;32m     80\u001b[0m completion \u001b[38;5;241m=\u001b[39m \u001b[38;5;28mself\u001b[39m\u001b[38;5;241m.\u001b[39mcreate_chat_completion(messages, \u001b[38;5;28mself\u001b[39m\u001b[38;5;241m.\u001b[39mtoolbox_instance\u001b[38;5;241m.\u001b[39mget_tool_docs([\u001b[38;5;28mgetattr\u001b[39m(\u001b[38;5;28mself\u001b[39m\u001b[38;5;241m.\u001b[39mtoolbox_instance, current_function_name)]), tool_choice\u001b[38;5;241m=\u001b[39m\u001b[38;5;124m\"\u001b[39m\u001b[38;5;124mrequired\u001b[39m\u001b[38;5;124m\"\u001b[39m)\n\u001b[1;32m     82\u001b[0m \u001b[38;5;28;01mif\u001b[39;00m run_tool:\n\u001b[0;32m---> 83\u001b[0m     \u001b[38;5;28;43mself\u001b[39;49m\u001b[38;5;241;43m.\u001b[39;49m\u001b[43mparse_function_call\u001b[49m\u001b[43m(\u001b[49m\u001b[43mcompletion\u001b[49m\u001b[43m,\u001b[49m\u001b[43m \u001b[49m\u001b[38;5;28;43mself\u001b[39;49m\u001b[38;5;241;43m.\u001b[39;49m\u001b[43mtoolbox_instance\u001b[49m\u001b[43m)\u001b[49m\n\u001b[1;32m     84\u001b[0m \u001b[38;5;28;01melse\u001b[39;00m:\n\u001b[1;32m     85\u001b[0m     \u001b[38;5;28;01mreturn\u001b[39;00m completion\n",
      "File \u001b[0;32m~/Documents/Projects/AgentRetouching/Chat.py:158\u001b[0m, in \u001b[0;36mAgentClient.parse_function_call\u001b[0;34m(completion, instance)\u001b[0m\n\u001b[1;32m    156\u001b[0m \u001b[38;5;28;01mif\u001b[39;00m \u001b[38;5;28mhasattr\u001b[39m(instance, method_name):\n\u001b[1;32m    157\u001b[0m     method \u001b[38;5;241m=\u001b[39m \u001b[38;5;28mgetattr\u001b[39m(instance, method_name)\n\u001b[0;32m--> 158\u001b[0m     result \u001b[38;5;241m=\u001b[39m \u001b[43mmethod\u001b[49m\u001b[43m(\u001b[49m\u001b[38;5;241;43m*\u001b[39;49m\u001b[38;5;241;43m*\u001b[39;49m\u001b[43mfunction_args\u001b[49m\u001b[43m)\u001b[49m\n\u001b[1;32m    159\u001b[0m     \u001b[38;5;28;01mreturn\u001b[39;00m result\n\u001b[1;32m    160\u001b[0m \u001b[38;5;28;01melse\u001b[39;00m:\n",
      "File \u001b[0;32m~/Documents/Projects/AgentRetouching/Toolbox.py:355\u001b[0m, in \u001b[0;36mImageProcessingToolBoxes.adjust_shadows\u001b[0;34m(self, shadow_factor, reason)\u001b[0m\n\u001b[1;32m    353\u001b[0m shadows \u001b[38;5;241m=\u001b[39m grayscale\u001b[38;5;241m.\u001b[39mpoint(\u001b[38;5;28;01mlambda\u001b[39;00m p: \u001b[38;5;28mint\u001b[39m(p \u001b[38;5;241m*\u001b[39m shadow_multiplier) \u001b[38;5;28;01mif\u001b[39;00m p \u001b[38;5;241m<\u001b[39m\u001b[38;5;241m=\u001b[39m \u001b[38;5;241m128\u001b[39m \u001b[38;5;28;01melse\u001b[39;00m p)\n\u001b[1;32m    354\u001b[0m img_shadowed \u001b[38;5;241m=\u001b[39m Image\u001b[38;5;241m.\u001b[39mmerge(\u001b[38;5;124m\"\u001b[39m\u001b[38;5;124mRGB\u001b[39m\u001b[38;5;124m\"\u001b[39m, (shadows, shadows, shadows))\n\u001b[0;32m--> 355\u001b[0m img_adjusted \u001b[38;5;241m=\u001b[39m \u001b[43mImage\u001b[49m\u001b[38;5;241;43m.\u001b[39;49m\u001b[43mblend\u001b[49m\u001b[43m(\u001b[49m\u001b[43mimg\u001b[49m\u001b[43m,\u001b[49m\u001b[43m \u001b[49m\u001b[43mimg_shadowed\u001b[49m\u001b[43m,\u001b[49m\u001b[43m \u001b[49m\u001b[38;5;241;43m0.5\u001b[39;49m\u001b[43m)\u001b[49m\n\u001b[1;32m    357\u001b[0m img_adjusted\u001b[38;5;241m.\u001b[39msave(\u001b[38;5;28mself\u001b[39m\u001b[38;5;241m.\u001b[39mimage_paths[\u001b[38;5;241m-\u001b[39m\u001b[38;5;241m1\u001b[39m])\n\u001b[1;32m    358\u001b[0m \u001b[38;5;28mprint\u001b[39m(\u001b[38;5;28mself\u001b[39m\u001b[38;5;241m.\u001b[39mprocessing_log[\u001b[38;5;241m-\u001b[39m\u001b[38;5;241m1\u001b[39m])\n",
      "File \u001b[0;32m~/anaconda3/envs/agent/lib/python3.10/site-packages/PIL/Image.py:3578\u001b[0m, in \u001b[0;36mblend\u001b[0;34m(im1, im2, alpha)\u001b[0m\n\u001b[1;32m   3576\u001b[0m im1\u001b[38;5;241m.\u001b[39mload()\n\u001b[1;32m   3577\u001b[0m im2\u001b[38;5;241m.\u001b[39mload()\n\u001b[0;32m-> 3578\u001b[0m \u001b[38;5;28;01mreturn\u001b[39;00m im1\u001b[38;5;241m.\u001b[39m_new(\u001b[43mcore\u001b[49m\u001b[38;5;241;43m.\u001b[39;49m\u001b[43mblend\u001b[49m\u001b[43m(\u001b[49m\u001b[43mim1\u001b[49m\u001b[38;5;241;43m.\u001b[39;49m\u001b[43mim\u001b[49m\u001b[43m,\u001b[49m\u001b[43m \u001b[49m\u001b[43mim2\u001b[49m\u001b[38;5;241;43m.\u001b[39;49m\u001b[43mim\u001b[49m\u001b[43m,\u001b[49m\u001b[43m \u001b[49m\u001b[43malpha\u001b[49m\u001b[43m)\u001b[49m)\n",
      "\u001b[0;31mValueError\u001b[0m: images do not match"
     ]
    }
   ],
   "source": [
    "chat_client.agent_interaction(system_prompt=image_content_analyzer_prompt())\n",
    "chat_client.agent_interaction(system_prompt=global_retouching_concept_prompt())\n",
    "chat_client.agent_get_plan(system_prompt=retouching_planing_system_prompt(), user_prompt=retouching_planing_user_prompt(image_process.get_function_names()))\n",
    "\n",
    "while image_process.processing_plan:\n",
    "    current_function = image_process.processing_plan[0]\n",
    "\n",
    "    chat_client.agent_execute_plan(\n",
    "        system_prompt=retouching_execute_system_prompt(),\n",
    "        user_prompt=retouching_execute_user_prompt(current_function),\n",
    "        current_function_name=current_function)\n",
    "    \n",
    "    image_process.finish_current_plan()"
   ]
  },
  {
   "cell_type": "code",
   "execution_count": null,
   "id": "89ce4143-f267-4e68-987f-1369c67122c6",
   "metadata": {},
   "outputs": [],
   "source": []
  },
  {
   "cell_type": "code",
   "execution_count": null,
   "id": "0169ef6e-db01-4fcf-a033-6d4ef5521d37",
   "metadata": {},
   "outputs": [],
   "source": []
  },
  {
   "cell_type": "code",
   "execution_count": 8,
   "id": "f5fb83c4-6bcd-4114-848b-7cceb321827b",
   "metadata": {},
   "outputs": [
    {
     "name": "stdout",
     "output_type": "stream",
     "text": [
      "Adjusting brightness of image-2 with factor 200, generate image-3, reason: yes.\n"
     ]
    }
   ],
   "source": [
    "image_process.adjust_brightness(200, \"yes\")"
   ]
  },
  {
   "cell_type": "code",
   "execution_count": null,
   "id": "74240c20-70d6-4f27-a6de-7cc5ac481db0",
   "metadata": {},
   "outputs": [],
   "source": []
  },
  {
   "cell_type": "code",
   "execution_count": null,
   "id": "813bdf87-c924-40ca-b7b4-c3a60bdea5ca",
   "metadata": {},
   "outputs": [],
   "source": []
  },
  {
   "cell_type": "code",
   "execution_count": null,
   "id": "e387adfa-77cf-4bc6-a569-cee77ff502d4",
   "metadata": {},
   "outputs": [],
   "source": []
  },
  {
   "cell_type": "code",
   "execution_count": null,
   "id": "e20791c1-52eb-4533-8158-60ba1c609047",
   "metadata": {},
   "outputs": [],
   "source": []
  },
  {
   "cell_type": "code",
   "execution_count": null,
   "id": "ba5b1b83-5972-44ec-a463-eb534473cd7e",
   "metadata": {},
   "outputs": [],
   "source": []
  },
  {
   "cell_type": "code",
   "execution_count": null,
   "id": "aa7528a3-8008-4a73-80c2-009827bc1c97",
   "metadata": {},
   "outputs": [],
   "source": []
  },
  {
   "cell_type": "code",
   "execution_count": null,
   "id": "4771ed52-fee0-479b-9f68-a83fcc024fa4",
   "metadata": {},
   "outputs": [],
   "source": []
  },
  {
   "cell_type": "code",
   "execution_count": null,
   "id": "d56da6c1-bcc2-481e-85e5-5a3863fb7b88",
   "metadata": {},
   "outputs": [],
   "source": []
  },
  {
   "cell_type": "code",
   "execution_count": null,
   "id": "093ef308-7465-4c86-9f40-cff8f8b2238a",
   "metadata": {},
   "outputs": [],
   "source": []
  },
  {
   "cell_type": "code",
   "execution_count": null,
   "id": "b1ed2000-20e1-4773-bb90-0a1af22f4a6c",
   "metadata": {},
   "outputs": [],
   "source": []
  },
  {
   "cell_type": "code",
   "execution_count": null,
   "id": "5758dc70-8c19-4239-be0c-0bd9faa953fa",
   "metadata": {},
   "outputs": [],
   "source": []
  },
  {
   "cell_type": "code",
   "execution_count": null,
   "id": "d97db49f-3824-4159-a461-40a4be4d01db",
   "metadata": {},
   "outputs": [],
   "source": []
  },
  {
   "cell_type": "code",
   "execution_count": null,
   "id": "eb1ddd70-4b83-4762-b55b-68965331a3a2",
   "metadata": {},
   "outputs": [],
   "source": []
  },
  {
   "cell_type": "code",
   "execution_count": null,
   "id": "5c2b0a9d-5bc7-4cde-94c1-72386d4ccd01",
   "metadata": {},
   "outputs": [],
   "source": []
  },
  {
   "cell_type": "code",
   "execution_count": null,
   "id": "c1319e18-7342-445e-8f20-eadf011be4c2",
   "metadata": {},
   "outputs": [],
   "source": []
  },
  {
   "cell_type": "code",
   "execution_count": null,
   "id": "013449c8-732c-4c8d-bc32-afc219b9520e",
   "metadata": {},
   "outputs": [],
   "source": []
  }
 ],
 "metadata": {
  "kernelspec": {
   "display_name": "Python 3 (ipykernel)",
   "language": "python",
   "name": "python3"
  },
  "language_info": {
   "codemirror_mode": {
    "name": "ipython",
    "version": 3
   },
   "file_extension": ".py",
   "mimetype": "text/x-python",
   "name": "python",
   "nbconvert_exporter": "python",
   "pygments_lexer": "ipython3",
   "version": "3.10.15"
  }
 },
 "nbformat": 4,
 "nbformat_minor": 5
}
