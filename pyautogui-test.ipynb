{
 "cells": [
  {
   "cell_type": "code",
   "execution_count": 2,
   "id": "3ca88c3b-200a-4a22-b061-9bb006ca18b5",
   "metadata": {},
   "outputs": [],
   "source": [
    "import pyautogui\n",
    "import time"
   ]
  },
  {
   "cell_type": "code",
   "execution_count": 3,
   "id": "687ede1f-eaa7-4c38-bc5e-9ecb3b425c6b",
   "metadata": {},
   "outputs": [],
   "source": [
    "pyautogui.position()"
   ]
  },
  {
   "cell_type": "code",
   "execution_count": 34,
   "id": "c51ca791-c69c-405b-930a-18c0c691618e",
   "metadata": {},
   "outputs": [],
   "source": [
    "im1 = pyautogui.screenshot()"
   ]
  },
  {
   "cell_type": "code",
   "execution_count": 4,
   "id": "3f1454fc-0113-4e5a-a282-90674ab8edc9",
   "metadata": {},
   "outputs": [
    {
     "data": {
      "text/plain": [
       "'OK'"
      ]
     },
     "execution_count": 4,
     "metadata": {},
     "output_type": "execute_result"
    }
   ],
   "source": [
    "pyautogui.alert(text='This is a test message', title='', button='OK')\n",
    "time.sleep(2)\n",
    "pyautogui.alert(text='This is an ohter test message', title='', button='OK')"
   ]
  },
  {
   "cell_type": "code",
   "execution_count": 26,
   "id": "f531aa86-1f07-45dd-8860-7b83f2ca9f71",
   "metadata": {},
   "outputs": [
    {
     "data": {
      "text/plain": [
       "(100, 200)"
      ]
     },
     "execution_count": 26,
     "metadata": {},
     "output_type": "execute_result"
    }
   ],
   "source": [
    "pyautogui.moveTo(100, 200, 0.5)\n",
    "currentMouseX, currentMouseY = pyautogui.position()\n",
    "currentMouseX, currentMouseY"
   ]
  },
  {
   "cell_type": "code",
   "execution_count": 25,
   "id": "d7697306-a9bf-4b7b-bcbe-ddd00e6f5d6a",
   "metadata": {},
   "outputs": [
    {
     "name": "stdout",
     "output_type": "stream",
     "text": [
      "Point(x=-916, y=107)\n",
      "Point(x=175, y=217)\n",
      "Point(x=15, y=85)\n",
      "Point(x=16, y=83)\n",
      "Point(x=16, y=83)\n",
      "Point(x=629, y=411)\n",
      "Point(x=1574, y=907)\n",
      "Point(x=1577, y=907)\n",
      "Point(x=1577, y=907)\n",
      "Point(x=1577, y=907)\n",
      "Point(x=1577, y=907)\n",
      "Point(x=-1126, y=-328)\n"
     ]
    },
    {
     "ename": "KeyboardInterrupt",
     "evalue": "",
     "output_type": "error",
     "traceback": [
      "\u001b[0;31m---------------------------------------------------------------------------\u001b[0m",
      "\u001b[0;31mKeyboardInterrupt\u001b[0m                         Traceback (most recent call last)",
      "Cell \u001b[0;32mIn[25], line 3\u001b[0m\n\u001b[1;32m      1\u001b[0m \u001b[38;5;28;01mwhile\u001b[39;00m \u001b[38;5;28;01mTrue\u001b[39;00m:\n\u001b[1;32m      2\u001b[0m     \u001b[38;5;28mprint\u001b[39m(pyautogui\u001b[38;5;241m.\u001b[39mposition())\n\u001b[0;32m----> 3\u001b[0m     \u001b[43mtime\u001b[49m\u001b[38;5;241;43m.\u001b[39;49m\u001b[43msleep\u001b[49m\u001b[43m(\u001b[49m\u001b[38;5;241;43m1\u001b[39;49m\u001b[43m)\u001b[49m\n",
      "\u001b[0;31mKeyboardInterrupt\u001b[0m: "
     ]
    }
   ],
   "source": [
    "while True:\n",
    "    print(pyautogui.position())\n",
    "    time.sleep(1)"
   ]
  },
  {
   "cell_type": "code",
   "execution_count": null,
   "id": "811cba3c-e3ac-4a99-8b49-a37308ad0479",
   "metadata": {},
   "outputs": [],
   "source": []
  },
  {
   "cell_type": "code",
   "execution_count": null,
   "id": "45272af7-c766-4a1b-813d-bafb0c93012b",
   "metadata": {},
   "outputs": [],
   "source": []
  },
  {
   "cell_type": "code",
   "execution_count": null,
   "id": "db25daa8-df87-4ca3-aaa7-516938e1fa6c",
   "metadata": {},
   "outputs": [],
   "source": [
    "Toolbox_Config_Template = {\n",
    "    \"pannel_topleft\": (1601, 346),\n",
    "    \"pannel_bottomright\": (1856, 996),\n",
    "    \"histogram_topleft\": (1593, 79),\n",
    "    \"histogram_bottomright\": (1862, 190),\n",
    "    \"controller_image_path\": \"./button.png\",\n",
    "}"
   ]
  },
  {
   "cell_type": "code",
   "execution_count": null,
   "id": "d313f077-5c58-446a-b008-daa334c4ff25",
   "metadata": {},
   "outputs": [],
   "source": []
  },
  {
   "cell_type": "code",
   "execution_count": null,
   "id": "59d422e7-3762-44ee-b589-800edaadf7f0",
   "metadata": {},
   "outputs": [],
   "source": []
  },
  {
   "cell_type": "code",
   "execution_count": 15,
   "id": "f76a9648-f6b8-4a1d-b8ba-ab16c5c9299c",
   "metadata": {},
   "outputs": [],
   "source": [
    "pannel_and_histogram_area = {'pannel_topleft': (1594, 79),\n",
    " 'pannel_bottomright': (1863, 192),\n",
    " 'histogram_topleft': (1602, 382),\n",
    " 'histogram_bottomright': (1854, 995)}"
   ]
  },
  {
   "cell_type": "code",
   "execution_count": null,
   "id": "c0c5268f-2f0a-4631-9fd8-57c935932876",
   "metadata": {},
   "outputs": [],
   "source": []
  },
  {
   "cell_type": "code",
   "execution_count": null,
   "id": "cf1753d5-f240-4e26-96ad-6c9b91e5e983",
   "metadata": {},
   "outputs": [],
   "source": []
  },
  {
   "cell_type": "code",
   "execution_count": null,
   "id": "f46703a7-3f44-4ef9-9b02-4d053b0be7ef",
   "metadata": {},
   "outputs": [],
   "source": []
  },
  {
   "cell_type": "code",
   "execution_count": null,
   "id": "d7e85abd-cef6-4d07-84f5-73e888749200",
   "metadata": {},
   "outputs": [],
   "source": []
  },
  {
   "cell_type": "code",
   "execution_count": null,
   "id": "5a9d191a-7887-4609-aa83-5164b85f0ba5",
   "metadata": {},
   "outputs": [],
   "source": []
  },
  {
   "cell_type": "code",
   "execution_count": 5,
   "id": "7ec056c2-9707-43fe-974e-2663d0ce8223",
   "metadata": {},
   "outputs": [
    {
     "name": "stderr",
     "output_type": "stream",
     "text": [
      "2025-01-02 23:17:07.997 python[17237:18501646] Warning: Window move completed without beginning\n",
      "Exception in thread Thread-5 (add_message_loop):\n",
      "Traceback (most recent call last):\n",
      "  File \"/Users/jinjingu/anaconda3/envs/agent/lib/python3.10/threading.py\", line 1016, in _bootstrap_inner\n",
      "    self.run()\n",
      "  File \"/Users/jinjingu/anaconda3/envs/agent/lib/python3.10/site-packages/ipykernel/ipkernel.py\", line 766, in run_closure\n",
      "    _threading_Thread_run(self)\n",
      "  File \"/Users/jinjingu/anaconda3/envs/agent/lib/python3.10/threading.py\", line 953, in run\n",
      "    self._target(*self._args, **self._kwargs)\n",
      "  File \"/var/folders/yb/5l8n8d797mgb4qpsrff3lvxm0000gn/T/ipykernel_17237/2723471232.py\", line 29, in add_message_loop\n",
      "  File \"/var/folders/yb/5l8n8d797mgb4qpsrff3lvxm0000gn/T/ipykernel_17237/2723471232.py\", line 21, in update_text\n",
      "  File \"/Users/jinjingu/anaconda3/envs/agent/lib/python3.10/tkinter/__init__.py\", line 1675, in configure\n",
      "    return self._configure('configure', cnf, kw)\n",
      "  File \"/Users/jinjingu/anaconda3/envs/agent/lib/python3.10/tkinter/__init__.py\", line 1665, in _configure\n",
      "    self.tk.call(_flatten((self._w, cmd)) + self._options(cnf))\n",
      "RuntimeError: main thread is not in main loop\n"
     ]
    }
   ],
   "source": [
    "import tkinter as tk\n",
    "from tkinter.scrolledtext import ScrolledText\n",
    "import time\n",
    "import threading\n",
    "\n",
    "\n",
    "class ScrollableDialog:\n",
    "    def __init__(self, root):\n",
    "        self.root = root\n",
    "        self.root.title(\"滚动对话框\")\n",
    "        \n",
    "        # 创建滚动文本框\n",
    "        self.text_area = ScrolledText(root, wrap=tk.WORD, width=50, height=20)\n",
    "        self.text_area.pack(fill=tk.BOTH, expand=True)\n",
    "        \n",
    "        # 禁止用户编辑\n",
    "        self.text_area.config(state=tk.DISABLED)\n",
    "\n",
    "    def update_text(self, message):\n",
    "        # 允许插入文字\n",
    "        self.text_area.config(state=tk.NORMAL)\n",
    "        self.text_area.insert(tk.END, message + \"\\n\")\n",
    "        self.text_area.see(tk.END)  # 滚动到最底部\n",
    "        # 禁止插入文字\n",
    "        self.text_area.config(state=tk.DISABLED)\n",
    "\n",
    "    def add_message_loop(self):\n",
    "        for i in range(100):\n",
    "            self.update_text(f\"这是一条动态消息 {i + 1}\")\n",
    "            time.sleep(0.5)  # 模拟每0.5秒更新一次消息\n",
    "\n",
    "\n",
    "# 创建主窗口\n",
    "root = tk.Tk()\n",
    "\n",
    "# 实例化滚动对话框\n",
    "dialog = ScrollableDialog(root)\n",
    "\n",
    "# 在单独的线程中更新消息\n",
    "threading.Thread(target=dialog.add_message_loop, daemon=True).start()\n",
    "\n",
    "# 开始主循环\n",
    "root.mainloop()"
   ]
  },
  {
   "cell_type": "code",
   "execution_count": null,
   "id": "2fc11476-a3b4-4c5a-9b24-e8a80e4a5145",
   "metadata": {},
   "outputs": [],
   "source": []
  }
 ],
 "metadata": {
  "kernelspec": {
   "display_name": "Python 3 (ipykernel)",
   "language": "python",
   "name": "python3"
  },
  "language_info": {
   "codemirror_mode": {
    "name": "ipython",
    "version": 3
   },
   "file_extension": ".py",
   "mimetype": "text/x-python",
   "name": "python",
   "nbconvert_exporter": "python",
   "pygments_lexer": "ipython3",
   "version": "3.10.16"
  }
 },
 "nbformat": 4,
 "nbformat_minor": 5
}
