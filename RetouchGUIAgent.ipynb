{
 "cells": [
  {
   "cell_type": "code",
   "execution_count": 1,
   "id": "48aa853d-fc46-4401-b893-088ab7b32d95",
   "metadata": {
    "ExecuteTime": {
     "end_time": "2025-01-13T06:04:44.166080Z",
     "start_time": "2025-01-13T06:04:44.136151Z"
    }
   },
   "outputs": [],
   "source": [
    "%load_ext autoreload\n",
    "%autoreload 2"
   ]
  },
  {
   "cell_type": "code",
   "execution_count": 10,
   "id": "7d28b1a2-facf-4899-a5c7-dc016c87ad94",
   "metadata": {
    "ExecuteTime": {
     "end_time": "2025-01-13T06:09:57.778783Z",
     "start_time": "2025-01-13T06:09:57.756822Z"
    }
   },
   "outputs": [],
   "source": [
    "import json, os, time\n",
    "\n",
    "import pyautogui\n",
    "from PIL import Image\n",
    "import cv2\n",
    "import numpy as np\n",
    "from dotenv import load_dotenv\n",
    "import openai\n",
    "\n",
    "from prompts import *\n",
    "from GUIUtils import *\n",
    "from GUIToolbox import LightroomGUIToolBox\n",
    "from Chat import AgentClient\n",
    "from ChatClaude import ClaudeAgentClient\n",
    "from cognitive_architecture import adjustment_routing_woKI\n",
    "\n",
    "load_dotenv()\n",
    "api_key = os.getenv(\"OPENAI_API_KEY\")\n",
    "openai.api_key = api_key"
   ]
  },
  {
   "cell_type": "markdown",
   "id": "7d40a21b-3cfb-4558-8884-e703953ee713",
   "metadata": {},
   "source": [
    "## First Step: Set the window, set clibration points for automated GUI operations\n",
    "Set up window and calibration points for automated GUI control\n",
    "This step needs to be done once and the configuration will be saved for future use\n",
    "Steps:\n",
    "1. Position and size the Lightroom window appropriately \n",
    "2. Follow prompts to calibrate control points for automation\n",
    "3. Configuration will be saved to a file for reuse\n",
    "4. Remeber to give terminal right to control your computer"
   ]
  },
  {
   "cell_type": "code",
   "execution_count": 11,
   "id": "1c520903-1c85-424b-843f-0775ad6d1e10",
   "metadata": {
    "ExecuteTime": {
     "end_time": "2025-01-13T06:10:01.241693Z",
     "start_time": "2025-01-13T06:10:01.191584Z"
    }
   },
   "outputs": [
    {
     "name": "stdout",
     "output_type": "stream",
     "text": [
      "Configuration file './GUI_config_1.json' found. Loading...\n"
     ]
    }
   ],
   "source": [
    "# GUI_config_file = \"./GUI_config_half.json\"\n",
    "GUI_config_file = \"./GUI_config_1.json\"\n",
    "# GUI_config_file = \"./GUI_config.json\"\n",
    "update_setting_image = 'UpdateSetting.png'\n",
    "\n",
    "if os.path.exists(GUI_config_file):\n",
    "    print(f\"Configuration file '{GUI_config_file}' found. Loading...\")\n",
    "    with open(GUI_config_file, \"r\") as config_file:\n",
    "        GUI_config = json.load(config_file)\n",
    "else:\n",
    "    button_image = os.path.abspath(\"./button.png\")\n",
    "    color_button_image = os.path.abspath(\"./color-button.png\")\n",
    "    HDPI = 2\n",
    "    background_color = [26, 26, 26]\n",
    "    pannel_and_histogram_area = set_calibration_points()\n",
    "    slider_positions = record_slider_positions(button_image)\n",
    "    color_slider_positions = record_color_slider_positions(color_button_image)\n",
    "    GUI_config = create_toolbox_config_template(button_image, color_button_image, HDPI, background_color, pannel_and_histogram_area, slider_positions, color_slider_positions)\n",
    "    with open(GUI_config_file, \"w\") as config_file:\n",
    "        json.dump(GUI_config, config_file, indent=4)"
   ]
  },
  {
   "cell_type": "markdown",
   "id": "f674ec66-224e-4f9b-a167-9197766abc4b",
   "metadata": {},
   "source": [
    "### Run test to control the GUI Lightroom"
   ]
  },
  {
   "cell_type": "code",
   "execution_count": null,
   "id": "818c95d4-261e-469c-9de0-3176666635f3",
   "metadata": {},
   "outputs": [],
   "source": [
    "skip_legacy_setting_button(update_setting_image, GUI_config)\n",
    "set_slider_positions(test_parameters_2, GUI_config)\n",
    "set_slider_positions(test_parameters_3, GUI_config)\n",
    "set_slider_positions(test_parameters_1, GUI_config)\n",
    "\n",
    "set_color_slider_positions(color_test_parameters_2, GUI_config)\n",
    "set_color_slider_positions(color_test_parameters_3, GUI_config)\n",
    "set_color_slider_positions(color_test_parameters_1, GUI_config)"
   ]
  },
  {
   "cell_type": "markdown",
   "id": "5f5c4e13-459d-477c-876a-227ec2c14eb0",
   "metadata": {},
   "source": [
    "## Test single image"
   ]
  },
  {
   "cell_type": "code",
   "execution_count": null,
   "id": "8b42d1a5",
   "metadata": {},
   "outputs": [],
   "source": [
    "skip_legacy_setting_button(update_setting_image, GUI_config)\n",
    "set_slider_positions(test_parameters_1, GUI_config)\n",
    "set_color_slider_positions(color_test_parameters_1, GUI_config)"
   ]
  },
  {
   "cell_type": "code",
   "execution_count": 15,
   "id": "b7a7c380-8ad4-47ed-8e33-85c57febd5b5",
   "metadata": {
    "ExecuteTime": {
     "end_time": "2025-01-13T06:11:29.597425Z",
     "start_time": "2025-01-13T06:11:28.540752Z"
    }
   },
   "outputs": [
    {
     "name": "stdout",
     "output_type": "stream",
     "text": [
      "User messgae file path: /Users/haoyu/Research/Retouching/AgentRetouching-main 2/test-output/P./test-output/PhotoArtAgent_V.Jan5_woKI_artistic_emphasis/test_image_withcolor_31/user_messages.json\n"
     ]
    }
   ],
   "source": [
    "exp_index = 31\n",
    "\n",
    "output_dir_path = f\"./test-output/P./test-output/PhotoArtAgent_V.Jan5_woKI_artistic_emphasis/test_image_withcolor_{exp_index}\"\n",
    "GUIToolbox = LightroomGUIToolBox(GUI_config, output_dir_path, image_name=f\"test_image{exp_index}\", clip_history_messages=True)\n",
    "global_style = photo_editing_global_styles[\"artistic_emphasis\"]"
   ]
  },
  {
   "cell_type": "markdown",
   "id": "1199940e",
   "metadata": {},
   "source": [
    "### Claude"
   ]
  },
  {
   "cell_type": "code",
   "execution_count": 16,
   "id": "e74739ec",
   "metadata": {
    "ExecuteTime": {
     "end_time": "2025-01-13T06:11:32.419580Z",
     "start_time": "2025-01-13T06:11:32.377271Z"
    }
   },
   "outputs": [],
   "source": [
    "anthropic_api_key = \"\"\n",
    "\n",
    "from ChatClaude import ClaudeAgentClient\n",
    "\n",
    "chat_client = ClaudeAgentClient(api_key=anthropic_api_key, \n",
    "                                model='claude-3-sonnet-20240229', \n",
    "                                toolbox_instance=GUIToolbox, \n",
    "                                debug=False)\n"
   ]
  },
  {
   "cell_type": "markdown",
   "id": "2eab7079-4955-4db0-97dd-4f3692905b00",
   "metadata": {},
   "source": [
    "If you need to view the messages. Now select the output messages.json file on the server."
   ]
  },
  {
   "cell_type": "code",
   "execution_count": 17,
   "id": "042b961e",
   "metadata": {
    "ExecuteTime": {
     "end_time": "2025-01-13T06:12:29.046775Z",
     "start_time": "2025-01-13T06:11:35.119441Z"
    },
    "scrolled": true
   },
   "outputs": [
    {
     "name": "stdout",
     "output_type": "stream",
     "text": [
      "================================================================================\n",
      "`func_return_responses`, response: \n",
      "\n",
      "1. **Image Content Description:** The image captures a majestic mountain landscape with snow-capped peaks towering over a lush, green valley. A winding river meanders through the meadow, surrounded by dense forests. Blooming trees in the foreground add a touch of vibrant color.\n",
      "\n",
      "2. **General Requirements for Retouching Approaches:**\n",
      "*Light Adjustments:* Exposure, contrast, highlights, shadows, blacks, and whites adjustments will vary based on the desired mood and effect.\n",
      "*Color Adjustments:* The overall color temperature, tint, vibrance, and saturation will be tailored to match the emotional tone of each retouching approach.\n",
      "*Individual Color Adjustments:* Specific hues like green, blue, and white may be adjusted in saturation and luminance to enhance or subdue their presence.\n",
      "\n",
      "3. **Retouching Approaches:**\n",
      "\n",
      "*Approach 1 (Balanced/Subtle):* Maintain natural lighting with a slight increase in exposure and contrast. Preserve vibrant greens and blues while toning down saturation slightly for an earthy, serene ambiance. Desaturate reds and oranges in the foreground bloom for a more harmonious palette.\n",
      "\n",
      "*Approach 2 (Contrasting Mood):* Boost exposure and contrast significantly for a brighter, more dramatic scene. Shift color temperature cooler for a crisp, ethereal mood. Intensify blues and greens to evoke a sense of tranquility. Desaturate and darken shadows for increased depth and drama.\n",
      "\n",
      "*Approach 3 (Bold/Dramatic):* Exaggerate exposure and contrast for a surreal, high-key effect with brilliant highlights and deep shadows. Warm the overall temperature for a golden, dreamy cast. Boost saturation across the board for vivid, striking colors. Selectively desaturate blues in the mountain range for a painterly aesthetic.\n",
      "================================================================================\n",
      "`func_return_responses`, response: \n",
      "\n",
      "**Final Retouching Approach:**\n",
      "\n",
      "1. Increase global exposure mildly to brighten the scene, revealing more details in the shadowed foreground and mountain crevices. This will create a luminous, uplifting effect that draws the eye deeper into the scenery.\n",
      "\n",
      "2. Boost contrast subtly to accentuate the depth between light and dark areas, making the snow-capped peaks appear crisper against the blue sky while enhancing the texture in the verdant meadows. \n",
      "\n",
      "3. Cool the overall color temperature slightly to instill a refreshing, tranquil ambiance reminiscent of a pristine alpine environment.\n",
      "\n",
      "4. Intensify blue and cyan hues in the sky and distant mountains, amplifying their vibrancy to convey a sense of awe and grandeur. Simultaneously, enrich the green tones in the lush vegetation, deepening their saturation to heighten the feeling of verdant abundance.\n",
      "\n",
      "5. In the river's winding path, increase luminance and saturation of blues to make the water appear more vibrant and dynamic, guiding the viewer's gaze through the serene composition.\n",
      "\n",
      "6. For the blooming foliage in the foreground, reduce yellow/orange saturation while boosting green hues. This will integrate the bursts of color more harmoniously into the predominantly cool palette, preventing visual distraction from the main scene.\n",
      "\n",
      "The adjustments aim to evoke a profound sense of serenity and wonder through tasteful enhancements that respect the natural beauty while elevating its artistic impact. This cohesive approach combines visual storytelling, harmonious composition, creative color dynamics, and environmental authenticity.\n",
      "================================================================================\n",
      "`func_return_responses`, response: \n",
      "\n",
      "ADJUSTMENT: Significant spike in highlights indicates overexposure and potential clipping. Lift shadows to reveal detail in dark areas. Reduce highlights/whites to recover blown-out tones. Shift colors slightly cooler to compensate for warm cast. Selectively enhance vibrance in midtones for richer, more balanced hues.\n",
      "================================================================================\n",
      "`func_to_get_lightroom_adjustment`, response: \n",
      "\n",
      "{'Exposure': 0.3, 'Contrast': 20, 'Highlights': -15, 'Shadows': 20, 'Whites': -10, 'Blacks': 5, 'Temp': 5500, 'Tint': 5, 'Vibrance': 25, 'Saturation': 10}\n",
      "\n",
      "`func_to_get_lightroom_adjustment`, response: \n",
      "\n",
      "{'Red': [0, 0, 0], 'Orange': [0, -10, 0], 'Yellow': [0, 0, 0], 'Green': [0, 15, 10], 'Cyan': [0, 0, 0], 'Blue': [0, 20, 15], 'Purple': [0, 0, 0], 'Magenta': [0, 0, 0]}\n",
      "\n",
      "`func_to_get_lightroom_adjustment`, Reason: \n",
      "\n",
      "The goal is to enhance the natural beauty and vibrancy of this scenic mountain landscape while maintaining a balanced and authentic look. The slight exposure boost and increased contrast will reveal more detail in the shadows and highlights, adding depth and dimension. Reducing the highlights prevents clipping in the bright snowy peaks. The cooler color temperature and mild tint shift towards blue counteracts any warm color cast. Boosting vibrance and saturation subtly enriches the natural hues. Selectively enhancing green and blue hues accentuates the lush vegetation and vibrant sky, drawing the viewer's eye into the stunning scenery. Desaturating orange tones in the foreground blossoms prevents them from becoming a distracting focal point, integrating them more harmoniously into the composition.\n",
      "The adjustment with parameter {'Exposure': 0.3, 'Contrast': 20, 'Highlights': -15, 'Shadows': 20, 'Whites': -10, 'Blacks': 5, 'Temp': 5500, 'Tint': 5, 'Vibrance': 25, 'Saturation': 10} is  satisfactory, reason: The current adjustment has introduced some issues that detract from the intended artistic vision. While the overall color palette and vibrancy enhancements are pleasing, there are areas that require further refinement:\n",
      "\n",
      "1. Exposure and Contrast: The exposure increase of +0.3 and contrast boost of 20 have resulted in some highlight clipping, particularly in the snow-capped peaks. These bright areas have lost detail and appear washed out. Additionally, the high contrast has made some midtones appear slightly flat and muddy, lacking the desired depth and dimension.\n",
      "\n",
      "2. Shadows and Blacks: While lifting the shadows by 20 has revealed more detail in the darker areas, the black point adjustment of +5 may be too high, causing some shadow areas to appear slightly washed out and lacking richness.\n",
      "\n",
      "3. Color Temperature: The cooler color temperature of 5500K has created a slightly bluish cast over the entire scene, which may not be the most harmonious representation of the natural environment.\n",
      "\n",
      "4. Selective Color Adjustments: The selective color adjustments have enhanced the greens and blues beautifully, but the desaturation of orange tones in the foreground blossoms may be too aggressive, causing them to appear somewhat dull and muted.\n",
      "\n",
      "To improve the adjustment, the following parameters should be refined:\n",
      "\n",
      "- Reduce the exposure slightly to around +0.2 to prevent highlight clipping.\n",
      "- Lower the contrast to around 15 to maintain midtone detail and depth.\n",
      "- Adjust the black point down to around -5 to restore richness in the shadows.\n",
      "- Warm the color temperature slightly to around 5800K for a more natural and harmonious overall tone.\n",
      "- Increase the saturation of orange tones in the foreground blossoms to around +5 to restore their vibrancy and integration with the scene.\n",
      "\n",
      "The exposure, contrast, blacks, and color temperature are the primary areas that require further adjustment. The highlight, shadow, and selective color adjustments can be fine-tuned once the foundation is set correctly..\n"
     ]
    }
   ],
   "source": [
    "adjustment_routing_woKI(chat_client, \n",
    "                        GUIToolbox, \n",
    "                        global_style=global_style, \n",
    "                        retry=5)"
   ]
  },
  {
   "cell_type": "markdown",
   "id": "67064916",
   "metadata": {},
   "source": [
    "### ChatGPT"
   ]
  },
  {
   "cell_type": "code",
   "execution_count": 18,
   "id": "b8d6984f",
   "metadata": {
    "ExecuteTime": {
     "end_time": "2025-01-13T06:12:51.213696Z",
     "start_time": "2025-01-13T06:12:51.146173Z"
    }
   },
   "outputs": [],
   "source": [
    "openai_api_key = \"\"\n",
    "\n",
    "from Chat import AgentClient\n",
    "\n",
    "chat_client = AgentClient(api_key=openai_api_key, \n",
    "                          model='gpt-4o-2024-11-20', \n",
    "                          toolbox_instance=GUIToolbox, \n",
    "                          debug=False)\n"
   ]
  },
  {
   "cell_type": "code",
   "execution_count": 19,
   "id": "6dcd2fec-e961-4d4e-acb4-ea4a5392821b",
   "metadata": {
    "ExecuteTime": {
     "end_time": "2025-01-13T06:13:35.543633Z",
     "start_time": "2025-01-13T06:12:52.398198Z"
    }
   },
   "outputs": [
    {
     "name": "stdout",
     "output_type": "stream",
     "text": [
      "================================================================================\n",
      "`func_return_responses`, response: \n",
      "\n",
      "### Image Description\n",
      "The image presents a breathtaking mountain valley scene with snow-capped peaks, expansive green forests, and a meandering stream. The foreground features vibrant green foliage, while the distant view showcases glacial remnants under a partly cloudy sky.\n",
      "\n",
      "### Retouching Proposals\n",
      "\n",
      "**Approach 1: Balanced/Subtle Adjustments**\n",
      "- **Light:** Increase exposure (+0.2), raise shadows (+20), reduce highlights (-15), and slightly deepen blacks (-5) for detail balance.\n",
      "- **Color:** Set temperature to slightly cool (5500K), enhance vibrance (+15) for clarity.\n",
      "- **Individual Colors:** Boost green saturation (+15) and blue luminance (+10), ensuring colors remain authentic and harmonious.\n",
      "\n",
      "**Approach 2: Contrasting/Moody Adjustments**\n",
      "- **Light:** Boost contrast significantly (+30), deepen shadows (-20), and reduce highlights (-30) to emphasize depth.\n",
      "- **Color:** Shift temperature cooler (5000K) and slightly increase saturation (+10) for intense clarity.\n",
      "- **Individual Colors:** Enhance cyan saturation (+15) and blue luminance (+20) for a crisper, moody effect.\n",
      "\n",
      "**Approach 3: Bold/Dramatic Adjustments**\n",
      "- **Light:** Exaggerate exposure (+0.5), maximize contrast (+40), increase highlights (+25), and deepen blacks (-10) for stark drama.\n",
      "- **Color:** Warm the temperature to 6000K and increase vibrance (+25) for a vivid look.\n",
      "- **Individual Colors:** Intensify greens and blues in both saturation (+20) and luminance (+15), while reducing yellow luminance (-10) for a surreal effect.\n",
      "================================================================================\n",
      "`func_return_responses`, response: \n",
      "\n",
      "For the final, cohesive retouching approach tailored to the user's feedback:\n",
      "\n",
      "1. **Light Adjustments:**\n",
      "   - **Exposure:** Mild increase to brighten the scene, especially enhancing the lush green valley while maintaining snow details.\n",
      "   - **Contrast:** Slight increase to enhance separation between highlights and shadows, accentuating depth in the forests and mountains.\n",
      "   - **Highlights:** Reduced gently to recover detail in bright snow sections.\n",
      "   - **Shadows:** Lifted slightly to reveal hidden details within the denser forest areas.\n",
      "   - **Blacks:** Subtly deepened to preserve richness in dark tones without losing texture.\n",
      "\n",
      "2. **Color Adjustments:**\n",
      "   - **Temperature:** A subtle cooling applied for a fresh alpine feel without overwhelming cold tones.\n",
      "   - **Vibrance:** Moderately enhanced to bring life to greens, blues, and subtle yellows.\n",
      "   - **Saturation:** Slight boost to harmonize the composition cohesively across all elements.\n",
      "\n",
      "3. **HSL Adjustments:**\n",
      "   - **Greens:** Enhance saturation and luminance slightly, enriching the dense forest and valley greenery to make it more vibrant.\n",
      "   - **Blues:** Boost luminance and saturation—particularly in the sky and stream, adding vibrancy and dimensionality.\n",
      "   - **Yellows:** Mild increase in luminance to accentuate sunlight on the meadow.\n",
      "   - **Oranges:** Slight desaturation for subtle floral hues to align with the broader cool-toned scene.\n",
      "\n",
      "This approach embraces the natural beauty and storytelling potential of the image while respecting its authenticity, offering harmony and intrigue without artificial exaggeration.\n",
      "================================================================================\n",
      "`func_return_responses`, response: \n",
      "\n",
      "ADJUSTMENT: Highlights spike shows potential clipping; reduce highlights/whites. Dips in shadows suggest details need lifting. Balance exposure (+0.2) and contrast (+15) to improve tonal depth. Enhance midtones’ greens and blues for vibrance, avoiding oversaturation.\n",
      "================================================================================\n",
      "`func_to_get_lightroom_adjustment`, response: \n",
      "\n",
      "{'Exposure': 0.4, 'Contrast': 20, 'Highlights': -20, 'Shadows': 20, 'Whites': -15, 'Blacks': 10, 'Temp': 5500, 'Tint': 5, 'Vibrance': 30, 'Saturation': 10}\n",
      "\n",
      "`func_to_get_lightroom_adjustment`, response: \n",
      "\n",
      "{'Red': [0, 0, 0], 'Orange': [0, -10, 0], 'Yellow': [0, 5, 10], 'Green': [0, 20, 10], 'Cyan': [0, 0, 5], 'Blue': [0, 15, 10], 'Purple': [0, 0, 0], 'Magenta': [0, 0, 0]}\n",
      "\n",
      "`func_to_get_lightroom_adjustment`, Reason: \n",
      "\n",
      "This adjustment aims to enhance the overall vibrancy and visual impact while retaining the natural feeling of the scene. The boosted greens and blues enrich the forest and sky, while lifting shadows ensures detail in darker areas. Slightly cooling the temperature complements the crispness of the snow-capped peaks, and subtle vibrance adjustments emphasize the natural beauty of the landscape without overexaggerating colors.\n",
      "The adjustment with parameter {'Exposure': 0.4, 'Contrast': 20, 'Highlights': -20, 'Shadows': 20, 'Whites': -15, 'Blacks': 10, 'Temp': 5500, 'Tint': 5, 'Vibrance': 30, 'Saturation': 10} is  satisfactory, reason: The current adjustments successfully enhance the natural vibrancy of the scene, balancing richer greens and blues without overdoing saturation. Exposure and contrast settings provide greater definition, and shadows are lifted appropriately to recover details in darker areas. Slight cooling of the color temperature adds a crisp effect to the snow-capped peaks, tying the composition together harmoniously..\n"
     ]
    }
   ],
   "source": [
    "adjustment_routing_woKI(chat_client, \n",
    "                        GUIToolbox, \n",
    "                        global_style=global_style, \n",
    "                        retry=5)"
   ]
  },
  {
   "cell_type": "markdown",
   "id": "d8a13c36-c862-487f-82bd-c780c7bae1cc",
   "metadata": {},
   "source": [
    "## Run batch images"
   ]
  },
  {
   "cell_type": "code",
   "execution_count": null,
   "id": "b4ebdc5c-78f7-4749-abde-2fb522a07d6c",
   "metadata": {},
   "outputs": [],
   "source": [
    "processing_image_number = 114\n",
    "for i in range(processing_image_number):\n",
    "    exp_index = i\n",
    "    skip_legacy_setting_button(update_setting_image, GUI_config)\n",
    "    set_slider_positions(test_parameters_1, GUI_config)\n",
    "    set_color_slider_positions(color_test_parameters_1, GUI_config)\n",
    "    output_dir_path = f\"./test-output/PhotoArtAgent_V.Jan5_woKI/test_image_withcolor_{exp_index}\"\n",
    "    GUIToolbox = LightroomGUIToolBox(GUI_config, output_dir_path, image_name=f\"test_image{exp_index}\", clip_history_messages=True)\n",
    "    chat_client = AgentClient(api_key=api_key, toolbox_instance=GUIToolbox, debug=False)\n",
    "    global_style = photo_editing_global_styles[\"artistic_emphasis\"]\n",
    "\n",
    "    adjustment_routing_woKI(chat_client, GUIToolbox, global_style=global_style, retry=5)\n",
    "\n",
    "    time.sleep(2)\n",
    "    pyautogui.press('right')\n",
    "    time.sleep(1)"
   ]
  },
  {
   "cell_type": "code",
   "execution_count": null,
   "id": "5ccaa5df-9aec-489b-91a3-42c4d84ea9cd",
   "metadata": {},
   "outputs": [],
   "source": []
  },
  {
   "cell_type": "code",
   "execution_count": null,
   "id": "92b750d8-1cdc-4a39-959f-ace787148a9e",
   "metadata": {},
   "outputs": [],
   "source": []
  },
  {
   "cell_type": "code",
   "execution_count": null,
   "id": "a8d96317-5e40-4bbf-a451-f28b4c6151bc",
   "metadata": {},
   "outputs": [],
   "source": []
  },
  {
   "cell_type": "code",
   "execution_count": null,
   "id": "d7df028a-192b-4f05-8814-7cd92e60b920",
   "metadata": {},
   "outputs": [],
   "source": []
  },
  {
   "cell_type": "code",
   "execution_count": null,
   "id": "83807c10-1e6c-4004-b0d6-a8136e09874f",
   "metadata": {},
   "outputs": [],
   "source": []
  },
  {
   "cell_type": "code",
   "execution_count": null,
   "id": "7f4d20d7-8396-4084-bd6a-a47b8b65b6a9",
   "metadata": {},
   "outputs": [],
   "source": []
  },
  {
   "cell_type": "code",
   "execution_count": null,
   "id": "c5165418-0609-423a-aab9-e4b24a6ef9e0",
   "metadata": {},
   "outputs": [],
   "source": []
  },
  {
   "cell_type": "code",
   "execution_count": null,
   "id": "db88b651-a325-451c-826a-9f1698322927",
   "metadata": {},
   "outputs": [],
   "source": []
  },
  {
   "cell_type": "code",
   "execution_count": null,
   "id": "02ebebf9-a32b-41cd-be04-a9c4b796bd55",
   "metadata": {},
   "outputs": [],
   "source": []
  },
  {
   "cell_type": "code",
   "execution_count": null,
   "id": "c5a38aac-ab05-4599-87ef-08e65d7d415b",
   "metadata": {},
   "outputs": [],
   "source": []
  },
  {
   "cell_type": "code",
   "execution_count": null,
   "id": "1947c474-b6c4-44f9-82a1-3a85e94e78e3",
   "metadata": {},
   "outputs": [],
   "source": []
  },
  {
   "cell_type": "code",
   "execution_count": null,
   "id": "c4706ac0-1243-4195-b5dd-189c8c1886bb",
   "metadata": {},
   "outputs": [],
   "source": []
  },
  {
   "cell_type": "code",
   "execution_count": null,
   "id": "61157566-36a0-4b51-9bb2-840c38fd07f2",
   "metadata": {},
   "outputs": [],
   "source": []
  },
  {
   "cell_type": "code",
   "execution_count": null,
   "id": "af725bbf-fbb2-4cd4-8349-3d22648a65e7",
   "metadata": {},
   "outputs": [],
   "source": []
  },
  {
   "cell_type": "code",
   "execution_count": null,
   "id": "917fd6bf-49d2-41a6-83a7-824a471eca25",
   "metadata": {},
   "outputs": [],
   "source": []
  },
  {
   "cell_type": "code",
   "execution_count": null,
   "id": "3fd720f5-3551-49c0-a540-bbb804628aed",
   "metadata": {},
   "outputs": [],
   "source": []
  },
  {
   "cell_type": "code",
   "execution_count": null,
   "id": "6cecadd3-b86b-472e-9e70-1899eb05bd34",
   "metadata": {},
   "outputs": [],
   "source": []
  },
  {
   "cell_type": "code",
   "execution_count": null,
   "id": "6cb7823b-6a97-4fc0-9f3b-bba2ea9d77f9",
   "metadata": {},
   "outputs": [],
   "source": []
  },
  {
   "cell_type": "code",
   "execution_count": null,
   "id": "8aed2fc4-f7d6-4091-b69d-7b188c094af9",
   "metadata": {},
   "outputs": [],
   "source": []
  },
  {
   "cell_type": "code",
   "execution_count": null,
   "id": "32033363-caac-48d4-81e1-75f9b2bb7af0",
   "metadata": {},
   "outputs": [],
   "source": []
  },
  {
   "cell_type": "code",
   "execution_count": null,
   "id": "85a7c92f-2070-4cfb-9bd3-49d04fcdff85",
   "metadata": {},
   "outputs": [],
   "source": []
  },
  {
   "cell_type": "code",
   "execution_count": null,
   "id": "f6739027-54e5-4a9d-8bc6-ef88428094a6",
   "metadata": {},
   "outputs": [],
   "source": []
  },
  {
   "cell_type": "code",
   "execution_count": null,
   "id": "562533df-0297-40f8-9a5a-49ea65683422",
   "metadata": {},
   "outputs": [],
   "source": []
  },
  {
   "cell_type": "code",
   "execution_count": null,
   "id": "bf56138e-c96b-4a87-a60e-e4507914ddd8",
   "metadata": {},
   "outputs": [],
   "source": []
  },
  {
   "cell_type": "code",
   "execution_count": null,
   "id": "4b5778c4-d7ec-4bff-b654-d91b9af82eae",
   "metadata": {},
   "outputs": [],
   "source": []
  },
  {
   "cell_type": "code",
   "execution_count": null,
   "id": "09c23ca8-ec00-4a6f-a6ed-17595ade6bb4",
   "metadata": {},
   "outputs": [],
   "source": []
  },
  {
   "cell_type": "code",
   "execution_count": null,
   "id": "fa9464d0-16ad-48a5-b3e7-2588c6bb13ff",
   "metadata": {},
   "outputs": [],
   "source": []
  },
  {
   "cell_type": "code",
   "execution_count": null,
   "id": "3b34469d-730c-4071-9a82-f3567b66d3d8",
   "metadata": {},
   "outputs": [],
   "source": []
  },
  {
   "cell_type": "code",
   "execution_count": null,
   "id": "b72c5929-2435-4f76-9f46-96cf5ed23316",
   "metadata": {},
   "outputs": [],
   "source": []
  },
  {
   "cell_type": "code",
   "execution_count": null,
   "id": "6c1e05a3-60d8-4e51-beda-d086d9360788",
   "metadata": {},
   "outputs": [],
   "source": []
  },
  {
   "cell_type": "code",
   "execution_count": null,
   "id": "dfc9bfc9-297d-496c-932b-0d22fcf61fcb",
   "metadata": {},
   "outputs": [],
   "source": []
  },
  {
   "cell_type": "code",
   "execution_count": null,
   "id": "93f6ae93-0c9f-4a60-abb8-ffd6f86c8e52",
   "metadata": {},
   "outputs": [],
   "source": []
  },
  {
   "cell_type": "code",
   "execution_count": null,
   "id": "c7949635-7496-4705-b681-8dd958c8a7e5",
   "metadata": {},
   "outputs": [],
   "source": []
  },
  {
   "cell_type": "code",
   "execution_count": null,
   "id": "0f281c0c-ac8a-459d-9046-b79c5cd15b9b",
   "metadata": {},
   "outputs": [],
   "source": []
  },
  {
   "cell_type": "code",
   "execution_count": null,
   "id": "75268562-7d74-4be3-922b-ca176277ad15",
   "metadata": {},
   "outputs": [],
   "source": []
  },
  {
   "cell_type": "code",
   "execution_count": null,
   "id": "4c84679f-670a-4cc7-93fd-f1494d3431bb",
   "metadata": {},
   "outputs": [],
   "source": []
  },
  {
   "cell_type": "code",
   "execution_count": null,
   "id": "77711eb8-3da4-4a70-a5a6-bbde3099b759",
   "metadata": {},
   "outputs": [],
   "source": []
  }
 ],
 "metadata": {
  "kernelspec": {
   "display_name": "Python 3 (ipykernel)",
   "language": "python",
   "name": "python3"
  },
  "language_info": {
   "codemirror_mode": {
    "name": "ipython",
    "version": 3
   },
   "file_extension": ".py",
   "mimetype": "text/x-python",
   "name": "python",
   "nbconvert_exporter": "python",
   "pygments_lexer": "ipython3",
   "version": "3.10.5"
  },
  "toc": {
   "base_numbering": 1,
   "nav_menu": {},
   "number_sections": true,
   "sideBar": true,
   "skip_h1_title": false,
   "title_cell": "Table of Contents",
   "title_sidebar": "Contents",
   "toc_cell": false,
   "toc_position": {},
   "toc_section_display": true,
   "toc_window_display": false
  }
 },
 "nbformat": 4,
 "nbformat_minor": 5
}
