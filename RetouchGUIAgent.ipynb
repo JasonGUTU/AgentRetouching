{
 "cells": [
  {
   "cell_type": "code",
   "execution_count": 1,
   "id": "7d28b1a2-facf-4899-a5c7-dc016c87ad94",
   "metadata": {},
   "outputs": [],
   "source": [
    "import json, os, time\n",
    "\n",
    "import pyautogui\n",
    "from PIL import Image\n",
    "import cv2\n",
    "import numpy as np\n",
    "from dotenv import load_dotenv\n",
    "import openai\n",
    "\n",
    "from prompts import *\n",
    "from GUIUtils import *\n",
    "from GUIToolbox import LightroomGUIToolBox\n",
    "from Chat import AgentClient\n",
    "\n",
    "load_dotenv()\n",
    "api_key = os.getenv(\"OPENAI_API_KEY\")\n",
    "openai.api_key = api_key"
   ]
  },
  {
   "cell_type": "markdown",
   "id": "7d40a21b-3cfb-4558-8884-e703953ee713",
   "metadata": {},
   "source": [
    "## First Step: Set the window, set clibration points for automated GUI operations\n",
    "Please Follow the Instruction, if you have done this, please save it for future use."
   ]
  },
  {
   "cell_type": "code",
   "execution_count": 2,
   "id": "1c520903-1c85-424b-843f-0775ad6d1e10",
   "metadata": {},
   "outputs": [
    {
     "name": "stdout",
     "output_type": "stream",
     "text": [
      "Configuration file './GUI_config.json' found. Loading...\n"
     ]
    }
   ],
   "source": [
    "GUI_config_file = \"./GUI_config.json\"\n",
    "\n",
    "if os.path.exists(GUI_config_file):\n",
    "    print(f\"Configuration file '{GUI_config_file}' found. Loading...\")\n",
    "    with open(GUI_config_file, \"r\") as config_file:\n",
    "        GUI_config = json.load(config_file)\n",
    "else:\n",
    "    # Set the button image for locating button on the screen\n",
    "    button_image = \"./button.png\"\n",
    "    HDPI = 2\n",
    "    background_color = [26, 26, 26]\n",
    "    # record the area of the pannel and histogram\n",
    "    pannel_and_histogram_area = set_calibration_points()\n",
    "    # record the location of each adjustable element in the pannel area\n",
    "    slider_positions = record_slider_positions(button_image)\n",
    "    GUI_config = create_toolbox_config_template(button_image, HDPI, background_color, pannel_and_histogram_area, slider_positions)\n",
    "    # Save to a configuration file\n",
    "    with open(GUI_config_file, \"w\") as config_file:\n",
    "        json.dump(GUI_config, config_file, indent=4)"
   ]
  },
  {
   "cell_type": "markdown",
   "id": "0b4ad3a3-5f9e-4a59-a488-2998b298930f",
   "metadata": {},
   "source": [
    "### Check the config"
   ]
  },
  {
   "cell_type": "markdown",
   "id": "f674ec66-224e-4f9b-a167-9197766abc4b",
   "metadata": {},
   "source": [
    "### Run test to control the GUI Lightroom"
   ]
  },
  {
   "cell_type": "code",
   "execution_count": 3,
   "id": "818c95d4-261e-469c-9de0-3176666635f3",
   "metadata": {},
   "outputs": [
    {
     "name": "stdout",
     "output_type": "stream",
     "text": [
      "{'Exposure': 2, 'Contrast': 69, 'Highlights': 69, 'Shadows': 69, 'Whites': 69, 'Blacks': 69, 'Temp': -70, 'Tint': -70, 'Vibrance': -70, 'Saturation': -70}\n",
      "{'Exposure': -3, 'Contrast': -70, 'Highlights': -70, 'Shadows': -70, 'Whites': -70, 'Blacks': -70, 'Temp': 69, 'Tint': 69, 'Vibrance': 69, 'Saturation': 69}\n"
     ]
    }
   ],
   "source": [
    "set_slider_positions(test_parameters_2, GUI_config)\n",
    "print(get_current_parameters(GUI_config))\n",
    "set_slider_positions(test_parameters_3, GUI_config)\n",
    "print(get_current_parameters(GUI_config))\n",
    "set_slider_positions(test_parameters_1, GUI_config)"
   ]
  },
  {
   "cell_type": "markdown",
   "id": "5f5c4e13-459d-477c-876a-227ec2c14eb0",
   "metadata": {},
   "source": [
    "## Second Init all classes"
   ]
  },
  {
   "cell_type": "code",
   "execution_count": 4,
   "id": "b7a7c380-8ad4-47ed-8e33-85c57febd5b5",
   "metadata": {},
   "outputs": [],
   "source": [
    "exp_index = 2\n",
    "output_dir_path = f\"./test-output/test_image{exp_index}\"\n",
    "GUIToolbox = LightroomGUIToolBox(GUI_config, output_dir_path, image_name=f\"test_image{exp_index}\", clip_history_messages=False)\n",
    "chat_client = AgentClient(api_key=api_key, toolbox_instance=GUIToolbox, debug=False)\n",
    "global_style = None"
   ]
  },
  {
   "cell_type": "code",
   "execution_count": 5,
   "id": "6e391f5d-5b40-4e8d-ab00-c46975dfd2ad",
   "metadata": {},
   "outputs": [
    {
     "name": "stdout",
     "output_type": "stream",
     "text": [
      "================================================================================\n",
      "`func_return_responses`, response: \n",
      "\n",
      "**Image Content Analysis:**\n",
      "This urban photograph prominently features tall skyscrapers in a bustling city intersection. The structure on the right has a distinct glass facade with reflective panels. A visible red logo provides a focal point. Pedestrians and vehicles, including a yellow taxi, populate the scene, contributing to the vitality of the area.\n",
      "\n",
      "**Visual and Emotional Analysis:**  \n",
      "The angle provides an engaging, upward view that highlights towering architecture, signifying urban density and vibrancy. Lighting lends a natural tone, though shadows dominate parts of the image, creating a lively yet slightly subdued atmosphere. The interplay of glass reflections and red logo evokes modernity and corporate influence, while the bustling street levels ground the shot in everyday life.\n",
      "================================================================================\n",
      "`func_return_responses`, response: \n",
      "\n",
      "### Histogram Analysis:\n",
      "The histogram shows peaks in the shadows (left) and highlights (right), with the midtones gradually decreasing. Shadows dominate, indicating an overall darker image. Low tonal values exist for true blacks (extreme left) and pure whites (extreme right), creating a balanced composition. However, slight overexposure is evident in highlights due to the spike.\n",
      "\n",
      "### Adjustment Suggestions:\n",
      "To improve balance, decrease the highlights slightly to correct overexposure. Brighten midtones to enhance subject visibility while preserving detail. Use shadow lifting to reveal finer details in the darker areas, ensuring the image remains visually engaging yet technically refined.\n",
      "================================================================================\n",
      "`func_return_responses`, response: \n",
      "\n",
      "### 1. Color Correction Goal:\n",
      "Enhance the architectural dynamism and urban energy of the scene by emphasizing the sleekness of the glass facade and the warmth of street activity. Highlight the red logo for visual emphasis while ensuring a balanced interplay of shadows, midtones, and reflections.\n",
      "\n",
      "### 2. Detailed Adjustments:\n",
      "- **Midtone Boost:** Brighten midtones slightly to improve clarity along building facades and enhance pedestrian visibility.\n",
      "- **Highlight Control:** Reduce overexposed highlights in the glass structure to recover detail and avoid glare.\n",
      "- **Shadow Lift:** Lightly elevate shadows to add depth to the darker portions of the buildings and street.\n",
      "- **Vibrancy Enhancements:** Increase vibrancy to make the red logo and yellow taxi pop while keeping the urban tones moderate.\n",
      "- **Color Temperature:** Introduce a subtle warm tone to evoke a sunny, lively ambiance.\n",
      "\n",
      "### 3. Artistic Interpretation:\n",
      "The adjustments align with the urban energy and modernity captured in the image. Emphasizing reflections and colors creates a vibrant yet sophisticated atmosphere that accentuates the architectural artistry while keeping the focus on the interplay of human activity and city elements. This balance amplifies the emotional engagement and visual appeal of the photo.\n",
      "================================================================================\n",
      "`func_return_responses`, response: \n",
      "\n",
      "### Recommended Color Enhancements\n",
      "\n",
      "**1. Exposure Adjustments:**\n",
      "   - **Exposure:** +0.20 (to brighten the image slightly)\n",
      "   - **Contrast:** +15 (to enhance structural definition and reflections)\n",
      "\n",
      "**2. Highlight and Shadow Balance:**\n",
      "   - **Highlights:** -30 (to recover glass facade details and minimize glare)\n",
      "   - **Shadows:** +25 (to bring out hidden details in darker areas)\n",
      "   - **Whites:** +10 (to slightly lift brighter areas for refinement)\n",
      "   - **Blacks:** -10 (to retain depth in the darker tonal range)\n",
      "\n",
      "**3. Color Control:**\n",
      "   - **Temperature (Temp):** +10 (for a warm, sunny tone)\n",
      "   - **Vibrance:** +20 (to make accent colors, like the red logo and taxi, stand out)\n",
      "   - **Saturation:** +10 (to enrich urban tones while maintaining realism)\n",
      "\n",
      "### Creative Intent\n",
      "These adjustments refine the image to communicate the vibrancy and sophistication of the urban setting. Highlights and shadows balance architectural detail and reflection while warmth and saturation evoke a lively city ambiance. The changes create visual coherence and emotional resonance, emphasizing the bustling vitality of the scene.\n",
      "================================================================================\n",
      "`func_to_get_lightroom_adjustment`, response: \n",
      "\n",
      "{'Exposure': 0.2, 'Contrast': 15, 'Highlights': -30, 'Shadows': 25, 'Whites': 10, 'Blacks': -10, 'Temp': 10, 'Tint': 0, 'Vibrance': 20, 'Saturation': 10} and the reason is: These adjustments aim to improve brightness and contrast while recovering details from overexposed areas and dark shadows. A slight warmth and vibrance enhance the urban vibrancy, making key colors like the red logo and yellow taxi pop without appearing artificial. The balance of light, color, and contrast ensures a professional and polished outcome.\n"
     ]
    }
   ],
   "source": [
    "# 分析图像的内容是什么\n",
    "_ = chat_client.agent_interaction(\n",
    "    system_prompt=image_content_analyzer_prompt()\n",
    ")\n",
    "# 分析图像的直方图现状\n",
    "histo_style = chat_client.agent_interaction(\n",
    "    system_prompt=image_global_histo_style_analyzer_prompt(),\n",
    "    histo_image=True\n",
    ")\n",
    "# 根据图片分析，提出一个总体的色彩校正目标\n",
    "global_style = chat_client.agent_interaction(\n",
    "    system_prompt=image_global_style_analyzer_prompt(histo_instruction=histo_style)\n",
    ")\n",
    "# 根据总体色彩校正目标和可用的图像处理手段，提出初步的校正概念\n",
    "_ = chat_client.agent_interaction(\n",
    "    system_prompt=global_retouching_concept_prompt_GUI(global_instruction=global_style)\n",
    ")\n",
    "# 并得到矫正计划\n",
    "_ = chat_client.agent_execute_plan(\n",
    "    system_prompt=retouching_execute_system_prompt(),\n",
    "    user_prompt=retouching_execute_user_prompt_GUI(),\n",
    "    current_function_name='func_to_get_lightroom_adjustment'\n",
    ")"
   ]
  },
  {
   "cell_type": "code",
   "execution_count": 6,
   "id": "596074ca-83d4-4892-90d6-5393b0203897",
   "metadata": {},
   "outputs": [
    {
     "name": "stdout",
     "output_type": "stream",
     "text": [
      "The adjustment with parameter {'Exposure': 0.2, 'Contrast': 15, 'Highlights': -30, 'Shadows': 25, 'Whites': 10, 'Blacks': -10, 'Temp': 10, 'Tint': 0, 'Vibrance': 20, 'Saturation': 10} is NOT satisfactory, reason: The prominent glare on the glass structure and overly contrasting shadows detract from a balanced visual presentation. While certain colors like red logos stand out, the overall shadow and midtone improvements need further refinement for vibrancy without overemphasis..\n",
      "================================================================================\n",
      "`func_to_get_lightroom_adjustment`, response: \n",
      "\n",
      "{'Exposure': 0.3, 'Contrast': 20, 'Highlights': -40, 'Shadows': 30, 'Whites': 15, 'Blacks': -15, 'Temp': 15, 'Tint': 0, 'Vibrance': 25, 'Saturation': 10} and the reason is: These adjustments aim to emphasize the architectural details and highlight urban vibrancy. The slight exposure lift ensures better visibility, while increasing contrast and balancing highlights and shadows fine-tunes structure and depth. The warmth, vibrance, and saturation enhance color presence naturally, evoking a sunny, lively city ambiance.\n",
      "The adjustment with parameter {'Exposure': 0.3, 'Contrast': 20, 'Highlights': -40, 'Shadows': 30, 'Whites': 15, 'Blacks': -15, 'Temp': 15, 'Tint': 0, 'Vibrance': 25, 'Saturation': 10} is  satisfactory, reason: The adjustment achieves a perfect balance by brightening the image, recovering detail in brighter and shadowed areas, and creating an engaging, vibrant visual atmosphere. The urban warmth and clarity enhance the dynamic city energy while preserving natural depth and realism..\n"
     ]
    }
   ],
   "source": [
    "while True:\n",
    "    _ = chat_client.agent_reflection_plan(\n",
    "        system_prompt=retouching_reflection_system_prompt(),\n",
    "        combine_image=False\n",
    "    )\n",
    "    \n",
    "    if GUIToolbox.satisfactory_status:\n",
    "        break\n",
    "\n",
    "    _ = chat_client.agent_execute_plan(\n",
    "    system_prompt=retouching_execute_system_prompt(),\n",
    "    user_prompt=retouching_execute_user_prompt_GUI(),\n",
    "    current_function_name='func_to_get_lightroom_adjustment'\n",
    "    )"
   ]
  },
  {
   "cell_type": "code",
   "execution_count": null,
   "id": "d8a13c36-c862-487f-82bd-c780c7bae1cc",
   "metadata": {},
   "outputs": [],
   "source": []
  },
  {
   "cell_type": "code",
   "execution_count": null,
   "id": "b4ebdc5c-78f7-4749-abde-2fb522a07d6c",
   "metadata": {},
   "outputs": [],
   "source": []
  },
  {
   "cell_type": "code",
   "execution_count": null,
   "id": "4e561306-8653-41aa-8bc7-59feb96e2f6a",
   "metadata": {},
   "outputs": [],
   "source": []
  },
  {
   "cell_type": "code",
   "execution_count": null,
   "id": "72537578-6e5e-478c-a738-4112265d34de",
   "metadata": {},
   "outputs": [],
   "source": []
  },
  {
   "cell_type": "code",
   "execution_count": null,
   "id": "5ccaa5df-9aec-489b-91a3-42c4d84ea9cd",
   "metadata": {},
   "outputs": [],
   "source": []
  },
  {
   "cell_type": "code",
   "execution_count": null,
   "id": "92b750d8-1cdc-4a39-959f-ace787148a9e",
   "metadata": {},
   "outputs": [],
   "source": []
  },
  {
   "cell_type": "code",
   "execution_count": null,
   "id": "a8d96317-5e40-4bbf-a451-f28b4c6151bc",
   "metadata": {},
   "outputs": [],
   "source": []
  },
  {
   "cell_type": "code",
   "execution_count": null,
   "id": "d7df028a-192b-4f05-8814-7cd92e60b920",
   "metadata": {},
   "outputs": [],
   "source": []
  },
  {
   "cell_type": "code",
   "execution_count": null,
   "id": "83807c10-1e6c-4004-b0d6-a8136e09874f",
   "metadata": {},
   "outputs": [],
   "source": []
  },
  {
   "cell_type": "code",
   "execution_count": null,
   "id": "7f4d20d7-8396-4084-bd6a-a47b8b65b6a9",
   "metadata": {},
   "outputs": [],
   "source": []
  },
  {
   "cell_type": "code",
   "execution_count": null,
   "id": "c5165418-0609-423a-aab9-e4b24a6ef9e0",
   "metadata": {},
   "outputs": [],
   "source": []
  },
  {
   "cell_type": "code",
   "execution_count": null,
   "id": "db88b651-a325-451c-826a-9f1698322927",
   "metadata": {},
   "outputs": [],
   "source": []
  },
  {
   "cell_type": "code",
   "execution_count": null,
   "id": "02ebebf9-a32b-41cd-be04-a9c4b796bd55",
   "metadata": {},
   "outputs": [],
   "source": []
  },
  {
   "cell_type": "code",
   "execution_count": null,
   "id": "c5a38aac-ab05-4599-87ef-08e65d7d415b",
   "metadata": {},
   "outputs": [],
   "source": []
  },
  {
   "cell_type": "code",
   "execution_count": null,
   "id": "1947c474-b6c4-44f9-82a1-3a85e94e78e3",
   "metadata": {},
   "outputs": [],
   "source": []
  },
  {
   "cell_type": "code",
   "execution_count": null,
   "id": "c4706ac0-1243-4195-b5dd-189c8c1886bb",
   "metadata": {},
   "outputs": [],
   "source": []
  },
  {
   "cell_type": "code",
   "execution_count": null,
   "id": "61157566-36a0-4b51-9bb2-840c38fd07f2",
   "metadata": {},
   "outputs": [],
   "source": []
  },
  {
   "cell_type": "code",
   "execution_count": null,
   "id": "af725bbf-fbb2-4cd4-8349-3d22648a65e7",
   "metadata": {},
   "outputs": [],
   "source": []
  },
  {
   "cell_type": "code",
   "execution_count": null,
   "id": "917fd6bf-49d2-41a6-83a7-824a471eca25",
   "metadata": {},
   "outputs": [],
   "source": []
  },
  {
   "cell_type": "code",
   "execution_count": null,
   "id": "3fd720f5-3551-49c0-a540-bbb804628aed",
   "metadata": {},
   "outputs": [],
   "source": []
  },
  {
   "cell_type": "code",
   "execution_count": null,
   "id": "6cecadd3-b86b-472e-9e70-1899eb05bd34",
   "metadata": {},
   "outputs": [],
   "source": []
  },
  {
   "cell_type": "code",
   "execution_count": null,
   "id": "6cb7823b-6a97-4fc0-9f3b-bba2ea9d77f9",
   "metadata": {},
   "outputs": [],
   "source": []
  },
  {
   "cell_type": "code",
   "execution_count": null,
   "id": "8aed2fc4-f7d6-4091-b69d-7b188c094af9",
   "metadata": {},
   "outputs": [],
   "source": []
  },
  {
   "cell_type": "code",
   "execution_count": null,
   "id": "32033363-caac-48d4-81e1-75f9b2bb7af0",
   "metadata": {},
   "outputs": [],
   "source": []
  },
  {
   "cell_type": "code",
   "execution_count": null,
   "id": "85a7c92f-2070-4cfb-9bd3-49d04fcdff85",
   "metadata": {},
   "outputs": [],
   "source": []
  },
  {
   "cell_type": "code",
   "execution_count": null,
   "id": "f6739027-54e5-4a9d-8bc6-ef88428094a6",
   "metadata": {},
   "outputs": [],
   "source": []
  },
  {
   "cell_type": "code",
   "execution_count": null,
   "id": "562533df-0297-40f8-9a5a-49ea65683422",
   "metadata": {},
   "outputs": [],
   "source": []
  },
  {
   "cell_type": "code",
   "execution_count": null,
   "id": "bf56138e-c96b-4a87-a60e-e4507914ddd8",
   "metadata": {},
   "outputs": [],
   "source": []
  },
  {
   "cell_type": "code",
   "execution_count": null,
   "id": "4b5778c4-d7ec-4bff-b654-d91b9af82eae",
   "metadata": {},
   "outputs": [],
   "source": []
  },
  {
   "cell_type": "code",
   "execution_count": null,
   "id": "09c23ca8-ec00-4a6f-a6ed-17595ade6bb4",
   "metadata": {},
   "outputs": [],
   "source": []
  },
  {
   "cell_type": "code",
   "execution_count": null,
   "id": "fa9464d0-16ad-48a5-b3e7-2588c6bb13ff",
   "metadata": {},
   "outputs": [],
   "source": []
  },
  {
   "cell_type": "code",
   "execution_count": null,
   "id": "3b34469d-730c-4071-9a82-f3567b66d3d8",
   "metadata": {},
   "outputs": [],
   "source": []
  },
  {
   "cell_type": "code",
   "execution_count": null,
   "id": "b72c5929-2435-4f76-9f46-96cf5ed23316",
   "metadata": {},
   "outputs": [],
   "source": []
  },
  {
   "cell_type": "code",
   "execution_count": null,
   "id": "6c1e05a3-60d8-4e51-beda-d086d9360788",
   "metadata": {},
   "outputs": [],
   "source": []
  },
  {
   "cell_type": "code",
   "execution_count": null,
   "id": "dfc9bfc9-297d-496c-932b-0d22fcf61fcb",
   "metadata": {},
   "outputs": [],
   "source": []
  },
  {
   "cell_type": "code",
   "execution_count": null,
   "id": "93f6ae93-0c9f-4a60-abb8-ffd6f86c8e52",
   "metadata": {},
   "outputs": [],
   "source": []
  },
  {
   "cell_type": "code",
   "execution_count": null,
   "id": "c7949635-7496-4705-b681-8dd958c8a7e5",
   "metadata": {},
   "outputs": [],
   "source": []
  },
  {
   "cell_type": "code",
   "execution_count": null,
   "id": "0f281c0c-ac8a-459d-9046-b79c5cd15b9b",
   "metadata": {},
   "outputs": [],
   "source": []
  },
  {
   "cell_type": "code",
   "execution_count": null,
   "id": "75268562-7d74-4be3-922b-ca176277ad15",
   "metadata": {},
   "outputs": [],
   "source": []
  },
  {
   "cell_type": "code",
   "execution_count": null,
   "id": "4c84679f-670a-4cc7-93fd-f1494d3431bb",
   "metadata": {},
   "outputs": [],
   "source": []
  },
  {
   "cell_type": "code",
   "execution_count": null,
   "id": "77711eb8-3da4-4a70-a5a6-bbde3099b759",
   "metadata": {},
   "outputs": [],
   "source": []
  }
 ],
 "metadata": {
  "kernelspec": {
   "display_name": "Python 3 (ipykernel)",
   "language": "python",
   "name": "python3"
  },
  "language_info": {
   "codemirror_mode": {
    "name": "ipython",
    "version": 3
   },
   "file_extension": ".py",
   "mimetype": "text/x-python",
   "name": "python",
   "nbconvert_exporter": "python",
   "pygments_lexer": "ipython3",
   "version": "3.10.16"
  }
 },
 "nbformat": 4,
 "nbformat_minor": 5
}
